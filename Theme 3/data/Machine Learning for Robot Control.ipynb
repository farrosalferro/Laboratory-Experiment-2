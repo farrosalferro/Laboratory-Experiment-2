{
 "cells": [
  {
   "attachments": {},
   "cell_type": "markdown",
   "metadata": {
    "hideCode": false,
    "hideOutput": false,
    "hidePrompt": false,
    "id": "9R0fTcrJVOol"
   },
   "source": [
    "Name: Farros Alferro\n",
    "\n",
    "\n",
    "Student ID: C0TB1706 \n",
    "\n",
    "\n",
    "Supervisor:  Assoc. Prof. Shingo Kagami"
   ]
  },
  {
   "attachments": {},
   "cell_type": "markdown",
   "metadata": {
    "hidePrompt": false,
    "id": "9bIL_jtcVOor"
   },
   "source": [
    "# Objective\n",
    "\n",
    "Robotics, like many other creative technical sectors today, has been and continues to be affected in various ways by machine learning technologies. Robot arms, for example, are a versatile device utilized in a variety of sectors. In this experiment, we use a single-finger robot to throw a ball and then study its behavior.\n",
    "\n",
    "\n",
    "Nonetheless, predicting the ball's behavior is challenging because it is significantly influenced by various elements, including the robot's motion, ball property, the elasticity of the robot, and air resistance (in this experiment, we only consider the first factor and omit the rest). As a result, we apply AI methods, particularly regression and optimization, to regulate the movement of the balls. Thus, the goal of these experiments is to learn how to employ AI technology in the context of robot control."
   ]
  },
  {
   "attachments": {},
   "cell_type": "markdown",
   "metadata": {
    "hidePrompt": false
   },
   "source": [
    "# Methods and Theory\n",
    "\n",
    "## Regression with MLP\n",
    "\n",
    "Regression is a technique for determining the relationship between independent variables or features ($x_1, x_2, ..., x_k$) and a dependent variable or outcome ($y$). Once the relationship between the independent and dependent variables has been estimated, outcomes can be predicted. It's used in predictive modeling to predict continuous outcomes, therefore it's useful for forecasting and predicting data outputs. In general, machine learning regression entails sketching a line of greatest fit through the data points.\n",
    "\n",
    "$$\\begin{aligned}\n",
    "y &= F(x)\n",
    "\\end{aligned}$$\n",
    " \n",
    "This model is then trained so that the errors between each point and the line is minimized.\n",
    "\n",
    "Model F has a variety of designs. A linear model is the most basic. However, the capability of linear models is restricted; when modeling nonlinear functions, the modeling error becomes considerable. We can overcome the limitations of linear models by incorporating one or more hidden layers. The easiest way to do this is to stack many fully connected layers on top of each other. Each layer feeds into the layer above it, until we generate outputs. We can think of the first L−1 layers as our representation and the final layer as our linear predictor. This architecture is commonly called a multilayer perceptron, often abbreviated as MLP. We wil utilized MLP in this experiment [<a href='http://www.ic.is.tohoku.ac.jp/~swk/lecture/exp2/'>1</a>].\n",
    "\n",
    "\n",
    "<center><img  src=\"https://d2l.ai/_images/mlp.svg\"></center>\n",
    "\n",
    "\n",
    "This MLP has 4 inputs, 3 outputs, and its hidden layer contains 5 hidden units. Since the input layer does not involve any calculations, producing outputs with this network requires implementing the computations for both the hidden and output layers; thus, the number of layers in this MLP is 2. Note that both layers are fully connected. Every input influences every neuron in the hidden layer, and each of these in turn influences every neuron in the output layer.\n",
    "\n",
    "Let us denote by the matrix $\\mathbf{X} \\in \\mathbb{R}^{n \\times d}$ a minibatch of $n$ examples where each example has $d$ inputs (features). For a one-hidden-layer MLP whose hidden layer has $h$ hidden units, we denote by $\\mathbf{H} \\in \\mathbb{R}^{n \\times h}$ the outputs of the hidden layer, which are *hidden representations*. Since the hidden and output layers are both fully connected, we have hidden-layer weights $\\mathbf{W}^{(1)} \\in \\mathbb{R}^{d \\times h}$ and biases $\\mathbf{b}^{(1)} \\in \\mathbb{R}^{1 \\times h}$ and output-layer weights $\\mathbf{W}^{(2)} \\in \\mathbb{R}^{h \\times q}$ and biases $\\mathbf{b}^{(2)} \\in \\mathbb{R}^{1 \\times q}$. This allows us to calculate the outputs $\\mathbf{O} \\in \\mathbb{R}^{n \\times q}$ of the one-hidden-layer MLP as follows:\n",
    "\n",
    "$$\n",
    "\\begin{aligned}\n",
    "    \\mathbf{H} & = \\mathbf{X} \\mathbf{W}^{(1)} + \\mathbf{b}^{(1)}, \\\\\n",
    "    \\mathbf{O} & = \\mathbf{H}\\mathbf{W}^{(2)} + \\mathbf{b}^{(2)}.\n",
    "\\end{aligned}\n",
    "$$\n",
    "\n",
    "Note that after adding the hidden layer, our model now requires us to track and update additional sets of parameters. However, the model does not gain anything even with additional hidden layer. The reason is because the hidden units above are given by an affine function of the inputs, and the outputs (pre-softmax) are just an affine function of the hidden units. An affine function of an affine function is itself an affine function. Moreover, our linear model was already capable of representing any affine function.\n",
    "\n",
    "To see this formally we can just collapse out the hidden layer in the above definition, yielding an equivalent single-layer model with parameters\n",
    "$\\mathbf{W} = \\mathbf{W}^{(1)}\\mathbf{W}^{(2)}$ and $\\mathbf{b} = \\mathbf{b}^{(1)} \\mathbf{W}^{(2)} + \\mathbf{b}^{(2)}$:\n",
    "\n",
    "$$\n",
    "\\mathbf{O} = (\\mathbf{X} \\mathbf{W}^{(1)} + \\mathbf{b}^{(1)})\\mathbf{W}^{(2)} + \\mathbf{b}^{(2)} = \\mathbf{X} \\mathbf{W}^{(1)}\\mathbf{W}^{(2)} + \\mathbf{b}^{(1)} \\mathbf{W}^{(2)} + \\mathbf{b}^{(2)} = \\mathbf{X} \\mathbf{W} + \\mathbf{b}.\n",
    "$$\n",
    "\n",
    "In order to realize the potential of multilayer architectures, we need one more key ingredient: a nonlinear *activation function* $\\sigma$ to be applied to each hidden unit following the affine transformation. For instance, a popular choice is the ReLU (Rectified Linear Unit) activation function $\\sigma(x) = \\mathrm{max}(0, x)$ operating on its arguments element-wise. The outputs of activation functions $\\sigma(\\cdot)$ are called *activations*. In general, with activation functions in place, it is no longer possible to collapse our MLP into a linear model:\n",
    "\n",
    "$$\n",
    "\\begin{aligned}\n",
    "    \\mathbf{H} & = \\sigma(\\mathbf{X} \\mathbf{W}^{(1)} + \\mathbf{b}^{(1)}), \\\\\n",
    "    \\mathbf{O} & = \\mathbf{H}\\mathbf{W}^{(2)} + \\mathbf{b}^{(2)}.\\\\\n",
    "\\end{aligned}\n",
    "$$\n",
    "\n",
    "Since each row in $\\mathbf{X}$ corresponds to an example in the minibatch, with some abuse of notation, we define the nonlinearity $\\sigma$ to apply to its inputs in a row-wise fashion, i.e., one example at a time. Note that we used the same notation for softmax when we denoted a row-wise operation in. Quite frequently the activation functions we use apply not merely row-wise but  element-wise. That means that after computing the linear portion of the layer, we can calculate each activation without looking at the values taken by the other hidden units.\n",
    "\n",
    "To build more general MLPs, we can continue stacking such hidden layers, e.g., $\\mathbf{H}^{(1)} = \\sigma_1(\\mathbf{X} \\mathbf{W}^{(1)} + \\mathbf{b}^{(1)})$ and $\\mathbf{H}^{(2)} = \\sigma_2(\\mathbf{H}^{(1)} \\mathbf{W}^{(2)} + \\mathbf{b}^{(2)})$, one atop another, yielding ever more expressive models [<a href='https://d2l.ai/chapter_multilayer-perceptrons/mlp.html'>2</a>].\n",
    "\n",
    "## Optimization with CMA-ES\n",
    "Function optimization is the challenge of determining the set of inputs to an objective goal function that results in maximum or minimum output of the function. The objective function must be minimized or maximized because it describes the difference between the actual value of the estimated parameter and what the model predicted. It can be a difficult task because the function has tens, hundreds, thousands, or even millions of inputs, and the structure of the function is unknown and frequently non-differentiable and noisy. Instead of solving it analytically, we can use numerical optimization in this case.\n",
    "\n",
    "Hill climbing is a simple example of an optimization algorithm. We begin with a random (or predetermined) initial value of $x_0$ and compute the gradient of the objective function, $E(x)$, with respect to $x$ about $x_0$.\n",
    "\n",
    "$$\n",
    "\\begin{aligned}\n",
    "    \\frac{dE}{dx}(x_0)\n",
    "\\end{aligned}\n",
    "$$\n",
    "\n",
    "When $x_0$ is changed to the gradient's negative direction, the value of the evaluation function at the modified $x$ decreases. We will eventually identify $x$ that minimizes $E$ by iterating these modifications.\n",
    "\n",
    "Other approaches that use gradients include the gradient descent method and Newton's method. MLP is trained via back-propagation, which is also a gradient approach. One disadvantage of the gradient approach is that it is frequently trapped by local optima. Consider the case where $E$ has many peak positions. This problem can occur when $E$ employs learning models such as MLP.\n",
    "\n",
    "We will employ CMA-ES (Covariance Matrix Adaptation Evolution Strategy) in this experiment, which is another strategy that does not require us to provide the gradient of. It employs a population of search points, making it more resistant to noisy functions than gradient approaches. CMA-ES is an evolutionary algorithm, which is based on the principle of biological evolution, namely the repeated interplay of variation (via recombination and mutation) and selection: in each generation (iteration), new individuals (candidate solutions, $x$) are generated by variation of the current parental individuals, usually in a stochastic way. Then, based on their fitness or objective function value $E$, some individuals are chosen to be parents in the next generation. Like this, over the generation sequence, individuals with better and better $E$-values are generated [<a href='https://doi.org/10.48550/arXiv.1604.00772'>3</a>][<a href='https://en.wikipedia.org/wiki/CMA-ES'>4</a>].\n",
    "\n",
    "The CMA-ES algorithm employs two fundamental ideas for the adaptation of search distribution parameters:\n",
    "\n",
    "1. A maximum-likelihood principle that seeks to increase the likelihood of successful candidate solutions and search processes. The distribution's mean is adjusted to optimize the likelihood of previously successful candidate solutions. The distribution's covariance matrix is changed (incrementally) to boost the likelihood of previously successful search steps. Both updates are examples of natural gradient descent. As a result, the CMA performs an iterated principal components analysis of successful search steps while keeping all primary axes intact. The Cross-Entropy Method and distribution algorithm estimation are based on very similar ideas, but they estimate the covariance matrix (non-incrementally) by maximizing the likelihood of successful solution points rather than successful search steps.\n",
    "\n",
    "2. Two pathways of the time evolution of the strategy's distribution mean are recorded, which are referred to as search or evolution paths. These pathways offer important information about the relationship between successive steps. Specifically, if successive steps in the same direction are done, the evolution routes become long. Two methods are used to exploit the evolution routes. In place of single successful search steps, one path is used for the covariance matrix adaptation technique, allowing for a potentially much faster variance rise of favorable directions. The other path is utilized to do another step-size control. The goal of this step-size control is to make sequential distribution mean movements orthogonal in expectation. The step-size adjustment efficiently prevents premature convergence while still allowing for quick convergence to an optimum.\n",
    "\n",
    "## Model-based Reinforcement Learning for Throwing Motion\n",
    "\n",
    "Assume a control parameter $x$ that alters the flight distance of the robot's thrown ball. $x$, for example, is the torque parameter. Let $y$ be the flight distance. Let $f$ represent the dynamics (the analytical model), thus $y = f(x)$. The ball throwing issue is one in which we must discover a control parameter $x_{opt}$ that achieves $y_{trg} \\approx f(x_{opt})$ for a given target of flying distance $y_{trg}$. It is important to note that we must solve this problem for any $y_{trg}$ [<a href='http://www.ic.is.tohoku.ac.jp/~swk/lecture/exp2/'>1</a>].\n",
    "\n",
    "The following is the proposed solution::\n",
    "\n",
    "1. Training Phase:\n",
    "\n",
    "    1.1. Throwing the ball using random control parameters ($x$) and measuring the distances it travels ($y$). We obtain $\\left\\{x, y | k = 1,2,...,N\\right\\}$. Here, we can choose one of three available parameters: torque, initial angle, and target angle. \n",
    "\n",
    "    1.2. Using the data obtained above, we train an MLP model.\n",
    "\n",
    "2. The concept of optimizing the control parameter is as follows: we define the objective function as the squared error of $y_{trg}$ and $f(x)$:\n",
    "\n",
    "$$\\begin{aligned}\n",
    "    f_{error}(x) = (y_{trg} - f(x))^2\n",
    "\\end{aligned}$$\n",
    "\n",
    "Then, using CMA-ES, we minimize this objective function in relation to $x$. The obtained $x$ is $x_{opt}$, which fulfills $y_{trg} \\approx f(x_{opt})$."
   ]
  },
  {
   "attachments": {},
   "cell_type": "markdown",
   "metadata": {},
   "source": [
    "# Experiments and Results\n",
    "We employ a robot simulator that is similar to the real-life single-finger robot. It is built with the Unity game engine and replicates the physics of a robot and a ball. The following link will lead us to the robot arm:\n",
    "\n",
    "http://akihikoy.net/p/FingerRobotWebGL/index.html\n",
    "\n",
    "<center><img alt=\"_images/FingerRobotWebGL.png\" src=\"http://www.ic.is.tohoku.ac.jp/~swk/lecture/exp2/_images/FingerRobotWebGL.png\"></center>\n",
    "\n",
    "There is a text box and the Run button visible in the bottom left corner. The text box contains a list of commands for controlling the robot. To run the commands, press the Run button. By default, it goes to 30 degrees, waits 2 seconds, and then moves to 100 degrees with 200 power. The robot will throw the ball, and the ball will land on the ground after a few seconds. The position of the ball is always indicated in the upper left corner. When the ball lands, the \"First landing location\" is presented, which indicates the ball's flying distance."
   ]
  },
  {
   "attachments": {},
   "cell_type": "markdown",
   "metadata": {},
   "source": [
    "## Environment Setup\n",
    "The experiment results were calculated and evaluated using Google Colaboratory or Jupyter Notebook to make it clearer as we can write code and text. Once a notebook is created, we first clone the library that contains functions necessary to process the experiment results to our local directory. In addition, we also import the **numpy** [<a href='https://numpy.org/doc/stable/'>5</a>] library to make array-based calculations easier and the **tabulate** [<a href='https://pypi.org/project/tabulate/'>6</a>] library to make table-like output in this notebook. "
   ]
  },
  {
   "cell_type": "code",
   "execution_count": 1,
   "metadata": {
    "colab": {
     "base_uri": "https://localhost:8080/"
    },
    "hideOutput": true,
    "hidePrompt": true,
    "id": "Hku2S0TAVOor",
    "outputId": "6a1afed1-acae-4dbc-c9b9-ce0d64f166ce"
   },
   "outputs": [
    {
     "name": "stdout",
     "output_type": "stream",
     "text": [
      "fatal: destination path 'ai_ctrl_1' already exists and is not an empty directory.\n"
     ]
    }
   ],
   "source": [
    "!git clone https://github.com/akihikoy/ai_ctrl_1.git\n",
    "\n",
    "import sys\n",
    "sys.path.append('ai_ctrl_1/sample')\n",
    "from libaictrl2 import *\n",
    "import numpy as np\n",
    "from tabulate import tabulate\n"
   ]
  },
  {
   "attachments": {},
   "cell_type": "markdown",
   "metadata": {
    "id": "vOIcuMjfVOow"
   },
   "source": [
    "## Regression with MLP\n",
    "In this exercise, we create synthetic data and use it to train the MLP model. To do this, we use a function from numpy.random module to generate an array that consists of 30 random samples from a uniform distribution over [0, 1). "
   ]
  },
  {
   "cell_type": "code",
   "execution_count": 2,
   "metadata": {
    "hidePrompt": true,
    "id": "o6Rg9qADVOox"
   },
   "outputs": [
    {
     "name": "stdout",
     "output_type": "stream",
     "text": [
      "data x: [0.01376845 0.07538124 0.19151945 0.27259261 0.27646426 0.31683612\n",
      " 0.35781727 0.36488598 0.36882401 0.37025075 0.39720258 0.43772774\n",
      " 0.50099513 0.50308317 0.56119619 0.56809865 0.61539618 0.62210877\n",
      " 0.65137814 0.68346294 0.71270203 0.77282662 0.77997581 0.78535858\n",
      " 0.78873014 0.80187218 0.87593263 0.88264119 0.9331401  0.95813935]\n"
     ]
    }
   ],
   "source": [
    "# Create artificial samples\n",
    "np.random.seed(1234)\n",
    "data_x = np.sort(np.random.rand(30))\n",
    "print(f'data x: {data_x}')"
   ]
  },
  {
   "attachments": {},
   "cell_type": "markdown",
   "metadata": {},
   "source": [
    "After that, we create two functions: a linear function and a parabolic function. Moreover, we also added some constants in order to make the data more visible when it is plotted. Then we input the $x$ data to each function to generate $y$ values with their corresponding behaviour (linear and nonlinear). "
   ]
  },
  {
   "cell_type": "code",
   "execution_count": 3,
   "metadata": {
    "hidePrompt": true
   },
   "outputs": [
    {
     "name": "stdout",
     "output_type": "stream",
     "text": [
      "linear y: [0.06376845 0.12538124 0.24151945 0.32259261 0.32646426 0.36683612\n",
      " 0.40781727 0.41488598 0.41882401 0.42025075 0.44720258 0.48772774\n",
      " 0.55099513 0.55308317 0.61119619 0.61809865 0.66539618 0.67210877\n",
      " 0.70137814 0.73346294 0.76270203 0.82282662 0.82997581 0.83535858\n",
      " 0.83873014 0.85187218 0.92593263 0.93264119 0.9831401  1.00813935]\n",
      "\n",
      "nonlinear y: [0.99568448 0.77120436 0.430641   0.25685649 0.24987292 0.18419602\n",
      " 0.13086371 0.12302319 0.11882857 0.11733947 0.09226924 0.06551134\n",
      " 0.05000396 0.05003802 0.06497989 0.06854971 0.10326511 0.10964221\n",
      " 0.14166137 0.18463459 0.23096861 0.34773746 0.36354581 0.37571809\n",
      " 0.38346038 0.41450725 0.61530138 0.63565712 0.80044139 0.88956667]\n"
     ]
    }
   ],
   "source": [
    "# Generate the y value for both linear and nonlinear functions\n",
    "def linear_fc(x):\n",
    "    return x + 0.05\n",
    "\n",
    "def second_order_fc(x):\n",
    "    return 4 * (x - 0.5) ** 2 + 0.05\n",
    "\n",
    "data_y = linear_fc(data_x)\n",
    "data_y_nonlinear = second_order_fc(data_x)\n",
    "print(f'linear y: {data_y}\\n')\n",
    "print(f'nonlinear y: {data_y_nonlinear}')"
   ]
  },
  {
   "attachments": {},
   "cell_type": "markdown",
   "metadata": {},
   "source": [
    "Then, we train the MLP model for each case and test the model for one sample $x=0.75$."
   ]
  },
  {
   "cell_type": "code",
   "execution_count": 4,
   "metadata": {
    "colab": {
     "base_uri": "https://localhost:8080/"
    },
    "hidePrompt": true,
    "id": "KZQRcFz7VOox",
    "outputId": "dcba50cd-c8ec-4cd7-a2bf-a2111aed7485"
   },
   "outputs": [
    {
     "name": "stdout",
     "output_type": "stream",
     "text": [
      "linear data: f(0.75) = 0.8020389724749504\n",
      "nonlinear data: f(0.75) = 0.3055841752437347\n"
     ]
    }
   ],
   "source": [
    "# Train the MLP model\n",
    "f = TrainMLPR(data_x, data_y)\n",
    "f_nonlinear = TrainMLPR(data_x, data_y_nonlinear)\n",
    "print(f'linear data: f(0.75) = {f(0.75)}')\n",
    "print(f'nonlinear data: f(0.75) = {f_nonlinear(0.75)}')"
   ]
  },
  {
   "attachments": {},
   "cell_type": "markdown",
   "metadata": {},
   "source": [
    "Lastly, we plot the model's predicted value for both the linear and nonlinear data. As seen from the figure below, the MLP model can predict the function of the generated data: linear function for the gray-colored samples and 2<sup>th</sup> polynomial function for the tan-colored samples. This shows that the MLP model is able to approximate nonlinear data, a feature that cannot be found in linear regression model."
   ]
  },
  {
   "cell_type": "code",
   "execution_count": 5,
   "metadata": {
    "colab": {
     "base_uri": "https://localhost:8080/",
     "height": 279
    },
    "hidePrompt": true,
    "id": "OxawHTmMVOoy",
    "outputId": "694b4072-e2b7-4593-ac92-ca791cdfcf72"
   },
   "outputs": [
    {
     "data": {
      "image/png": "[encoded data removed]",
      "text/plain": [
       "<Figure size 640x480 with 1 Axes>"
      ]
     },
     "metadata": {},
     "output_type": "display_data"
    }
   ],
   "source": [
    "# Line plot the output of the model \n",
    "plot = PlotF(f, xmin=0.0, xmax=1.0, show=False)\n",
    "plot_nonlinear = PlotF(f_nonlinear, xmin=0.0, xmax=1.0, show=False)\n",
    "\n",
    "# Scatter plot the data samples\n",
    "plot.plot(data_x, data_y, 'o', c='slategray', label='linear data')\n",
    "plot.plot(data_x, data_y_nonlinear, 'o', c='tan', label='nonlinear data')\n",
    "\n",
    "# Show the labels, legends, and the figure\n",
    "plot.xlabel('x')\n",
    "plot.ylabel('y')\n",
    "plot.legend(loc='center left', bbox_to_anchor=(1, 0.5))\n",
    "plot.show()"
   ]
  },
  {
   "attachments": {},
   "cell_type": "markdown",
   "metadata": {
    "id": "OROz8RxiVOoz"
   },
   "source": [
    "## Optimization with CMA-ES"
   ]
  },
  {
   "attachments": {},
   "cell_type": "markdown",
   "metadata": {},
   "source": [
    "In this exercise, we are going to find an $x$ point on the previous plot with the nearest value to the target value $y_{trg}$. To do this, first, we define an objective function of each case, which is the squared error of $y_{trg}$ and $f(x)$ learned in the previous section."
   ]
  },
  {
   "cell_type": "code",
   "execution_count": 6,
   "metadata": {
    "hidePrompt": true,
    "id": "XVX3KCFDVOo0"
   },
   "outputs": [],
   "source": [
    "# Define the objective function\n",
    "def f_error(x):\n",
    "  y_trg = 0.75\n",
    "  return (y_trg - f(x))**2\n",
    "\n",
    "def f_error_nonlinear(x):\n",
    "  y_trg = 0.75\n",
    "  return (y_trg - f_nonlinear(x))**2"
   ]
  },
  {
   "attachments": {},
   "cell_type": "markdown",
   "metadata": {},
   "source": [
    "Next, we optimize the objective function by inputting init to the *Fmin* function, which is an optimizer function that utilizes the CMA-ES algorithm and return the $x$ value that optimizes the input function. In the below code, we use $x=0.5$ as the initial value with a search range between $0.0$ and $1.0$."
   ]
  },
  {
   "cell_type": "code",
   "execution_count": 7,
   "metadata": {
    "colab": {
     "base_uri": "https://localhost:8080/"
    },
    "hideOutput": true,
    "hidePrompt": true,
    "id": "ZluFvuzDVOo0",
    "outputId": "622f5c72-2e98-4550-d45f-7de247e223e3"
   },
   "outputs": [
    {
     "name": "stdout",
     "output_type": "stream",
     "text": [
      "WARNING: optimization in 1-D is not supported (code was never tested)\n",
      "initial solution x0= [0.5]\n",
      "(2_w,4mirr1)-aCMA-ES (mu_w=1.5,w_1=80%) in dimension 1 (seed=206750, Mon May 15 10:40:12 2023)\n",
      "Iterat #Fevals   function value    axis ratio  sigma  minstd maxstd min:sec\n",
      "    1       4 4.157532605086295e-03 1.0e+00 3.90e-01  3e-01  3e-01 0:0.0\n",
      "    2       8 4.939371197393421e-05 1.0e+00 2.60e-01  2e-01  2e-01 0:0.0\n",
      "    3      12 2.965127461249824e-03 1.0e+00 2.21e-01  1e-01  1e-01 0:0.1\n",
      "   49     196 4.278268851574479e-16 1.0e+00 1.10e-05  5e-08  5e-08 0:0.2\n",
      "termination on tolfun=1e-11 (Mon May 15 10:40:12 2023)\n",
      "final/bestever f-value = 5.380158e-16 2.575412e-17\n",
      "mean solution: [0.69479721]\n",
      "std deviation: [5.03060427e-08]\n",
      "WARNING: optimization in 1-D is not supported (code was never tested)\n",
      "initial solution x0= [0.5]\n",
      "(2_w,4mirr1)-aCMA-ES (mu_w=1.5,w_1=80%) in dimension 1 (seed=281549, Mon May 15 10:40:12 2023)\n",
      "Iterat #Fevals   function value    axis ratio  sigma  minstd maxstd min:sec\n",
      "    1       4 2.456704139623830e-06 1.0e+00 5.54e-01  5e-01  5e-01 0:0.0\n",
      "    2       8 2.070717314538628e-05 1.0e+00 5.86e-01  5e-01  5e-01 0:0.0\n",
      "    3      12 5.024847031599159e-02 1.0e+00 3.67e-01  3e-01  3e-01 0:0.0\n",
      "   53     212 6.914323708701365e-18 1.0e+00 3.92e-06  1e-08  1e-08 0:0.1\n",
      "termination on tolfun=1e-11 (Mon May 15 10:40:12 2023)\n",
      "final/bestever f-value = 1.492949e-17 6.914324e-18\n",
      "mean solution: [-0.18664843]\n",
      "std deviation: [1.06243493e-08]\n"
     ]
    }
   ],
   "source": [
    "# Finding x that minimizes the objective function\n",
    "x_opt = FMin(f_error, 0.5, 0.0, 1.0)\n",
    "x_opt_nonlinear = FMin(f_error_nonlinear, 0.5, 0.0, 1.0)"
   ]
  },
  {
   "attachments": {},
   "cell_type": "markdown",
   "metadata": {},
   "source": [
    "We can observe from the upper code output that the *Fmin* function is able to obtain the $x_{opt}$ value after $44$ and $50$ iterations for both linear and nonlinear cases, respectively. To test this, we input back the obtained value to the MLP model, and as shown below, the *Fmin* does a great job of acquiring the $x$ value that optimizes the previous objective function. Moreover, we also add the coordinate $(x_{opt}, \\ f_{error}(x_{opt}))$ to the previous plot, indicated by the 'x' symbol for the linear function and '*' for the nonlinear function."
   ]
  },
  {
   "cell_type": "code",
   "execution_count": 8,
   "metadata": {
    "colab": {
     "base_uri": "https://localhost:8080/"
    },
    "hidePrompt": true,
    "id": "nw0aFT6NVOo1",
    "outputId": "c7502fed-b359-49ff-80be-bcc6431940ec"
   },
   "outputs": [
    {
     "name": "stdout",
     "output_type": "stream",
     "text": [
      "Linear solution: 0.694797184746893 0.7499999949251479 2.5754123777105775e-17\n",
      "Nonlinear solution: 0.08664843500343225 0.7500000026295102 6.914323708701365e-18\n"
     ]
    }
   ],
   "source": [
    "# Print the result\n",
    "print('Linear solution:', x_opt, f(x_opt), f_error(x_opt))\n",
    "print('Nonlinear solution:', x_opt_nonlinear, f_nonlinear(x_opt_nonlinear), f_error_nonlinear(x_opt_nonlinear))"
   ]
  },
  {
   "cell_type": "code",
   "execution_count": 9,
   "metadata": {
    "colab": {
     "base_uri": "https://localhost:8080/",
     "height": 279
    },
    "hidePrompt": true,
    "id": "i8s5vheUVOo1",
    "outputId": "4d59a1f9-cf4c-42b6-df8f-528e8fdb6e79"
   },
   "outputs": [
    {
     "data": {
      "image/png": "[encoded data removed]",
      "text/plain": [
       "<Figure size 640x480 with 1 Axes>"
      ]
     },
     "metadata": {},
     "output_type": "display_data"
    }
   ],
   "source": [
    "# Line plot the output of the model \n",
    "plot = PlotF(f, xmin=0.0, xmax=1.0, show=False)\n",
    "plot_nonlinear = PlotF(f_nonlinear, xmin=0.0, xmax=1.0, show=False)\n",
    "\n",
    "# Scatter plot the data samples\n",
    "plot.plot(data_x, data_y, 'o', c='slategray', label='linear data')\n",
    "plot.plot(data_x, data_y_nonlinear, 'o', c='tan', label='nonlinear data')\n",
    "\n",
    "# Plot x_opt \n",
    "plot.plot([x_opt], [f(x_opt)], 'x', c='red', label='f(x_opt)')\n",
    "plot.plot([x_opt_nonlinear], [f_nonlinear(x_opt_nonlinear)], '*', c='red', label='f_nonlinear(x_opt_nonlinear)')\n",
    "\n",
    "# Show the labels, legends, and the figure\n",
    "plot.xlabel('x')\n",
    "plot.ylabel('y')\n",
    "plot.legend(loc='center left', bbox_to_anchor=(1, 0.5))\n",
    "plot.show()"
   ]
  },
  {
   "attachments": {},
   "cell_type": "markdown",
   "metadata": {
    "id": "K1P3S9K3VOo2"
   },
   "source": [
    "## Learning Dynamics of Throwing Robot"
   ]
  },
  {
   "attachments": {},
   "cell_type": "markdown",
   "metadata": {},
   "source": [
    "Data that will be used to train the MLP model is obtained by manually inputting the independent variable $x$ and assigning the first landing position as the dependent variable $y$. As we use a robot simulator, commands are needed to move the robot with the desired parameters. Here are the commands used to obtain the data:\n",
    "\n",
    "```\n",
    "Reset\n",
    "MoveToTrg, 20\n",
    "Wait, 2\n",
    "MoveToTrg, 110, 100\n",
    "Wait, 7\n",
    "...\n",
    "Reset\n",
    "MoveToTrg, 30\n",
    "Wait, 2\n",
    "MoveToTrg, 100, 840\n",
    "Wait, 7\n",
    "```\n",
    "\n",
    "Here, we set the torque value as the control parameter and vary it from $110$ to $840$, while the initial and target angles are set to be constant of $20^{\\circ}$ and $110^{\\circ}$ respectively. The reason we chose the aforementioned configuration is that after trial and error, the following conclusions were drawn:\n",
    "\n",
    "* The initial angle can only be set to a value between $10 - 40$. If its lower, the ball will move a little bit to the upper part of the launcher, shifting ball's initial position. If its higher, the ball will be launched before it reaches the ```Wait, 2``` command. Thus, we set the initial angle to $20^{\\circ}$.\n",
    "\n",
    "* The target angle is set to $110^{\\circ}$ so that the robot arm covers at least a quarter of a circle and passes the $90^{\\circ}$. There is no specific reason for setting this value; as long as it is not too low or not too high, the trajectory will be fine.\n",
    "\n",
    "* The torque values have been adjusted to remove those that yield identical flying distances. Moreover, the interval is raised from $10$ to $20$ to observe how greater torque affects the trajectory.\n",
    "\n",
    "Moreover, we stack several commands in a row to obtain many samples in one run. First, the robot will move to the initial angle; then it will wait for $2$ seconds until it moves to the target angle with the stated torque. Here, we add an additional command ```Wait, 7``` to instruct the simulator to stay still for 7 seconds while we input the data to the excel file. Then, the robot will reset to its initial condition and do the same operations as before again and again until the end of the commands.\n",
    "\n",
    "After obtaining the data, we scale the $x$ and $y$ values. This is done since these algorithms occasionally assume a range of values, in which learning and optimization will be impacted if $x$ and $y$ values are too high or too small."
   ]
  },
  {
   "cell_type": "code",
   "execution_count": 10,
   "metadata": {
    "hidePrompt": true,
    "id": "c8b37W1iVOo2"
   },
   "outputs": [],
   "source": [
    "# Data obtained from the robot simulator\n",
    "data_x = [100, 110, 120, 130, 140, 150, 160, 170, 180, 190, 200, 240, 280, 320, 360, \n",
    "          400, 440, 480, 520, 560, 600, 640, 680, 720, 760, 800, 840] # Torque\n",
    "data_y = [24.21888, 25.51657, 27.52911, 29.60749, 31.53964, 32.64215, 35.23895, 36.65649, 36.77268, \n",
    "          38.07054, 42.09496, 41.95324, 45.77739, 46.68586, 46.01189, 49.48092, 47.90132, 50.36226, \n",
    "          47.09709, 53.56269, 50.58345, 48.33881, 49.23299, 54.17227, 52.17052, 50.1124 , 50.11637] # Flying distance\n",
    "\n",
    "# Scaling\n",
    "data_x = np.array(data_x) * 0.001\n",
    "data_y = np.array(data_y) * 0.01"
   ]
  },
  {
   "attachments": {},
   "cell_type": "markdown",
   "metadata": {},
   "source": [
    "Using the acquired data, we train the MLP model and plot the generated function. The graph shows that the MLP model correctly fits the data (it is not underfitted or overfitted), implying that the function successfully learns the data. We can also see that the function for our calculated control variables is not linear (which makes sense since the trajectory is parabolic)."
   ]
  },
  {
   "cell_type": "code",
   "execution_count": 11,
   "metadata": {
    "hidePrompt": true
   },
   "outputs": [
    {
     "data": {
      "image/png": "[encoded data removed]",
      "text/plain": [
       "<Figure size 640x480 with 1 Axes>"
      ]
     },
     "metadata": {},
     "output_type": "display_data"
    }
   ],
   "source": [
    "# Training the MLP model\n",
    "f = TrainMLPR(data_x, data_y)\n",
    "\n",
    "#Line plot the output of the model \n",
    "plot = PlotF(f, xmin=0.0, xmax=1.0, show=False)\n",
    "\n",
    "# Scatter plot the data samples\n",
    "plot.plot(data_x, data_y, 'o', c='slategray')\n",
    "\n",
    "# Show the labels, legends, and the figure\n",
    "plot.xlabel('Torque (scaled by 0.001)')\n",
    "plot.ylabel('Flying Distance (scaled by 0.01)')\n",
    "plot.title('Experimental Value of Torque vs. Flying Distance')\n",
    "plot.show()"
   ]
  },
  {
   "attachments": {},
   "cell_type": "markdown",
   "metadata": {
    "id": "N7lFpJjbVOo3"
   },
   "source": [
    "## Control the Robot to Throw the Ball to a Target Location"
   ]
  },
  {
   "attachments": {},
   "cell_type": "markdown",
   "metadata": {},
   "source": [
    "Similar to section 4.2, we will optimize an objective function (square error function) to find $x_{opt}$ that minimizes the objective function. Moreover, we also created an array of $y_{trg}$ values ranging from $0.24$ to $0.60$ with an interval of $0.02$ ($24$ m to $60$ m with an interval of $2$ m) by implementing *np.arange* function. After that, we create a dictionary where its keys-values contain the measurement variables and a list consisting of measurement values, respectively. Then, we start optimizing for each $y_{trg}$ and record the obtained $x_{opt}$ values to our dictionary. "
   ]
  },
  {
   "cell_type": "code",
   "execution_count": 12,
   "metadata": {
    "colab": {
     "base_uri": "https://localhost:8080/"
    },
    "hideOutput": true,
    "hidePrompt": true,
    "id": "vRfUcVGnVOo4",
    "outputId": "36bfa30b-513f-451f-9e11-df3f9e4a2d37",
    "scrolled": true
   },
   "outputs": [
    {
     "name": "stdout",
     "output_type": "stream",
     "text": [
      "WARNING: optimization in 1-D is not supported (code was never tested)\n",
      "initial solution x0= [0.5]\n",
      "(2_w,4mirr1)-aCMA-ES (mu_w=1.5,w_1=80%) in dimension 1 (seed=218853, Mon May 15 10:40:14 2023)\n",
      "Iterat #Fevals   function value    axis ratio  sigma  minstd maxstd min:sec\n",
      "    1       4 4.457923092237302e-06 1.0e+00 5.82e-01  6e-01  6e-01 0:0.0\n",
      "    2       8 2.934845132540898e-02 1.0e+00 5.66e-01  5e-01  5e-01 0:0.0\n",
      "    3      12 5.677781393252215e-04 1.0e+00 3.73e-01  3e-01  3e-01 0:0.0\n",
      "   67     268 4.656152478624619e-19 1.0e+00 3.18e-06  5e-09  5e-09 0:0.4\n",
      "termination on tolfun=1e-11 (Mon May 15 10:40:15 2023)\n",
      "final/bestever f-value = 8.504472e-20 8.504472e-20\n",
      "mean solution: [0.04017915]\n",
      "std deviation: [5.04907164e-09]\n",
      "WARNING: optimization in 1-D is not supported (code was never tested)\n",
      "initial solution x0= [0.5]\n",
      "(2_w,4mirr1)-aCMA-ES (mu_w=1.5,w_1=80%) in dimension 1 (seed=214954, Mon May 15 10:40:15 2023)\n",
      "Iterat #Fevals   function value    axis ratio  sigma  minstd maxstd min:sec\n",
      "    1       4 1.209668999122238e-03 1.0e+00 6.20e-01  7e-01  7e-01 0:0.0\n",
      "    2       8 1.294443981220502e-05 1.0e+00 6.02e-01  6e-01  6e-01 0:0.0\n",
      "    3      12 4.039131486290250e-02 1.0e+00 4.65e-01  4e-01  4e-01 0:0.0\n",
      "   45     180 3.408876786698089e-18 1.0e+00 7.96e-06  3e-08  3e-08 0:0.3\n",
      "termination on tolfun=1e-11 (Mon May 15 10:40:15 2023)\n",
      "final/bestever f-value = 1.306510e-17 3.408877e-18\n",
      "mean solution: [-0.16757186]\n",
      "std deviation: [3.48760848e-08]\n",
      "WARNING: optimization in 1-D is not supported (code was never tested)\n",
      "initial solution x0= [0.5]\n",
      "(2_w,4mirr1)-aCMA-ES (mu_w=1.5,w_1=80%) in dimension 1 (seed=270830, Mon May 15 10:40:15 2023)\n",
      "Iterat #Fevals   function value    axis ratio  sigma  minstd maxstd min:sec\n",
      "    1       4 3.448203886537943e-02 1.0e+00 3.91e-01  3e-01  3e-01 0:0.0\n",
      "    2       8 4.501883912427055e-04 1.0e+00 6.06e-01  6e-01  6e-01 0:0.0\n",
      "    3      12 3.138024580598637e-03 1.0e+00 5.34e-01  5e-01  5e-01 0:0.0\n",
      "   47     188 7.181963216647288e-18 1.0e+00 4.67e-06  2e-08  2e-08 0:0.2\n",
      "termination on tolfun=1e-11 (Mon May 15 10:40:15 2023)\n",
      "final/bestever f-value = 6.798106e-20 6.798106e-20\n",
      "mean solution: [0.09448233]\n",
      "std deviation: [1.83272725e-08]\n",
      "WARNING: optimization in 1-D is not supported (code was never tested)\n",
      "initial solution x0= [0.5]\n",
      "(2_w,4mirr1)-aCMA-ES (mu_w=1.5,w_1=80%) in dimension 1 (seed=203038, Mon May 15 10:40:15 2023)\n",
      "Iterat #Fevals   function value    axis ratio  sigma  minstd maxstd min:sec\n",
      "    1       4 6.037062992941388e-04 1.0e+00 7.03e-01  8e-01  8e-01 0:0.0\n",
      "    2       8 3.755365442885598e-03 1.0e+00 5.57e-01  5e-01  5e-01 0:0.0\n",
      "    3      12 5.304187356975199e-06 1.0e+00 3.67e-01  3e-01  3e-01 0:0.0\n",
      "   56     224 3.124569313632792e-15 1.0e+00 3.00e-05  2e-07  2e-07 0:0.2\n",
      "termination on tolfun=1e-11 (Mon May 15 10:40:16 2023)\n",
      "final/bestever f-value = 1.014989e-15 2.230303e-16\n",
      "mean solution: [0.11764949]\n",
      "std deviation: [1.87531581e-07]\n",
      "WARNING: optimization in 1-D is not supported (code was never tested)\n",
      "initial solution x0= [0.5]\n",
      "(2_w,4mirr1)-aCMA-ES (mu_w=1.5,w_1=80%) in dimension 1 (seed=209235, Mon May 15 10:40:16 2023)\n",
      "Iterat #Fevals   function value    axis ratio  sigma  minstd maxstd min:sec\n",
      "    1       4 7.197194665680568e-03 1.0e+00 6.28e-01  7e-01  7e-01 0:0.0\n",
      "    2       8 3.937591368163578e-03 1.0e+00 5.37e-01  5e-01  5e-01 0:0.0\n",
      "    3      12 2.011497885548442e-03 1.0e+00 4.50e-01  4e-01  4e-01 0:0.0\n",
      "   49     196 1.388333378061385e-17 1.0e+00 2.35e-06  7e-09  7e-09 0:0.3\n",
      "termination on tolfun=1e-11 (Mon May 15 10:40:16 2023)\n",
      "final/bestever f-value = 1.850581e-17 2.767073e-19\n",
      "mean solution: [-0.23984232]\n",
      "std deviation: [6.90913554e-09]\n",
      "WARNING: optimization in 1-D is not supported (code was never tested)\n",
      "initial solution x0= [0.5]\n",
      "(2_w,4mirr1)-aCMA-ES (mu_w=1.5,w_1=80%) in dimension 1 (seed=248666, Mon May 15 10:40:16 2023)\n",
      "Iterat #Fevals   function value    axis ratio  sigma  minstd maxstd min:sec\n",
      "    1       4 1.493991045384954e-02 1.0e+00 4.89e-01  5e-01  5e-01 0:0.0\n",
      "    2       8 1.263231527066084e-05 1.0e+00 3.66e-01  3e-01  3e-01 0:0.0\n",
      "    3      12 1.461742563035706e-04 1.0e+00 2.27e-01  2e-01  2e-01 0:0.0\n",
      "   48     192 2.773963378978497e-15 1.0e+00 1.95e-05  1e-07  1e-07 0:0.2\n",
      "termination on tolfun=1e-11 (Mon May 15 10:40:16 2023)\n",
      "final/bestever f-value = 9.659391e-16 2.250020e-16\n",
      "mean solution: [0.16203515]\n",
      "std deviation: [1.13112713e-07]\n",
      "WARNING: optimization in 1-D is not supported (code was never tested)\n",
      "initial solution x0= [0.5]\n",
      "(2_w,4mirr1)-aCMA-ES (mu_w=1.5,w_1=80%) in dimension 1 (seed=235663, Mon May 15 10:40:16 2023)\n",
      "Iterat #Fevals   function value    axis ratio  sigma  minstd maxstd min:sec\n",
      "    1       4 7.026794956041436e-04 1.0e+00 9.41e-01  1e+00  1e+00 0:0.0\n",
      "    2       8 2.268991891093163e-03 1.0e+00 7.66e-01  8e-01  8e-01 0:0.0\n",
      "    3      12 1.639235906904148e-03 1.0e+00 5.86e-01  6e-01  6e-01 0:0.0\n",
      "   52     208 1.802647674466546e-15 1.0e+00 1.08e-05  6e-08  6e-08 0:0.2\n",
      "termination on tolfun=1e-11 (Mon May 15 10:40:16 2023)\n",
      "final/bestever f-value = 6.433113e-16 2.571884e-18\n",
      "mean solution: [-0.28422793]\n",
      "std deviation: [5.5126959e-08]\n",
      "WARNING: optimization in 1-D is not supported (code was never tested)\n",
      "initial solution x0= [0.5]\n",
      "(2_w,4mirr1)-aCMA-ES (mu_w=1.5,w_1=80%) in dimension 1 (seed=219819, Mon May 15 10:40:16 2023)\n",
      "Iterat #Fevals   function value    axis ratio  sigma  minstd maxstd min:sec\n",
      "    1       4 7.069459300081495e-03 1.0e+00 8.62e-01  1e+00  1e+00 0:0.0\n",
      "    2       8 1.225902035363204e-02 1.0e+00 8.21e-01  9e-01  9e-01 0:0.0\n",
      "    3      12 9.654148534533313e-05 1.0e+00 6.07e-01  6e-01  6e-01 0:0.0\n",
      "   53     212 4.498856945835828e-19 1.0e+00 1.02e-06  2e-09  2e-09 0:0.3\n",
      "termination on tolfun=1e-11 (Mon May 15 10:40:17 2023)\n",
      "final/bestever f-value = 4.842854e-19 3.705600e-20\n",
      "mean solution: [-0.3064207]\n",
      "std deviation: [2.28487666e-09]\n",
      "WARNING: optimization in 1-D is not supported (code was never tested)\n",
      "initial solution x0= [0.5]\n",
      "(2_w,4mirr1)-aCMA-ES (mu_w=1.5,w_1=80%) in dimension 1 (seed=145538, Mon May 15 10:40:17 2023)\n",
      "Iterat #Fevals   function value    axis ratio  sigma  minstd maxstd min:sec\n",
      "    1       4 6.434888476823438e-03 1.0e+00 3.16e-01  3e-01  3e-01 0:0.0\n",
      "    2       8 1.314062600513809e-03 1.0e+00 3.51e-01  3e-01  3e-01 0:0.0\n",
      "    3      12 4.445944579738279e-03 1.0e+00 2.25e-01  2e-01  2e-01 0:0.0\n",
      "   48     192 1.282471216838215e-20 1.0e+00 1.94e-06  5e-09  5e-09 0:0.3\n",
      "termination on tolfun=1e-11 (Mon May 15 10:40:17 2023)\n",
      "termination on tolfunhist=1e-12 (Mon May 15 10:40:17 2023)\n",
      "final/bestever f-value = 2.517301e-19 1.282471e-20\n",
      "mean solution: [0.22861349]\n",
      "std deviation: [5.01727807e-09]\n",
      "WARNING: optimization in 1-D is not supported (code was never tested)\n",
      "initial solution x0= [0.5]\n",
      "(2_w,4mirr1)-aCMA-ES (mu_w=1.5,w_1=80%) in dimension 1 (seed=213727, Mon May 15 10:40:17 2023)\n",
      "Iterat #Fevals   function value    axis ratio  sigma  minstd maxstd min:sec\n",
      "    1       4 2.323410988703632e-03 1.0e+00 3.45e-01  3e-01  3e-01 0:0.0\n",
      "    2       8 4.386409423588820e-03 1.0e+00 2.29e-01  2e-01  2e-01 0:0.0\n",
      "    3      12 5.847750649157550e-04 1.0e+00 3.30e-01  3e-01  3e-01 0:0.0\n",
      "   53     212 2.635145224356445e-18 1.0e+00 3.58e-06  9e-09  9e-09 0:0.3\n",
      "termination on tolfun=1e-11 (Mon May 15 10:40:17 2023)\n",
      "final/bestever f-value = 2.880519e-18 7.287002e-21\n",
      "mean solution: [0.25080628]\n",
      "std deviation: [9.09475427e-09]\n",
      "WARNING: optimization in 1-D is not supported (code was never tested)\n",
      "initial solution x0= [0.5]\n",
      "(2_w,4mirr1)-aCMA-ES (mu_w=1.5,w_1=80%) in dimension 1 (seed=204628, Mon May 15 10:40:17 2023)\n",
      "Iterat #Fevals   function value    axis ratio  sigma  minstd maxstd min:sec\n",
      "    1       4 1.014371904189206e-03 1.0e+00 3.77e-01  3e-01  3e-01 0:0.0\n",
      "    2       8 2.896855187147019e-03 1.0e+00 3.32e-01  3e-01  3e-01 0:0.0\n",
      "    3      12 1.073758440766493e-03 1.0e+00 2.46e-01  2e-01  2e-01 0:0.0\n",
      "   45     180 2.257824326344535e-16 1.0e+00 1.64e-05  7e-08  7e-08 0:0.2\n",
      "termination on tolfun=1e-11 (Mon May 15 10:40:17 2023)\n",
      "final/bestever f-value = 1.864917e-17 7.087471e-18\n",
      "mean solution: [0.27299907]\n",
      "std deviation: [6.97333436e-08]\n",
      "WARNING: optimization in 1-D is not supported (code was never tested)\n",
      "initial solution x0= [0.5]\n",
      "(2_w,4mirr1)-aCMA-ES (mu_w=1.5,w_1=80%) in dimension 1 (seed=257052, Mon May 15 10:40:17 2023)\n",
      "Iterat #Fevals   function value    axis ratio  sigma  minstd maxstd min:sec\n",
      "    1       4 1.655348956836409e-04 1.0e+00 3.41e-01  3e-01  3e-01 0:0.0\n",
      "    2       8 1.850938103983702e-04 1.0e+00 2.25e-01  2e-01  2e-01 0:0.0\n",
      "    3      12 2.159309548722822e-05 1.0e+00 2.09e-01  1e-01  1e-01 0:0.0\n",
      "   43     172 2.343463998964030e-18 1.0e+00 7.25e-06  3e-08  3e-08 0:0.2\n",
      "termination on tolfun=1e-11 (Mon May 15 10:40:18 2023)\n",
      "termination on tolfunhist=1e-12 (Mon May 15 10:40:18 2023)\n",
      "final/bestever f-value = 5.052143e-18 2.343464e-18\n",
      "mean solution: [0.2994792]\n",
      "std deviation: [3.349908e-08]\n",
      "WARNING: optimization in 1-D is not supported (code was never tested)\n",
      "initial solution x0= [0.5]\n",
      "(2_w,4mirr1)-aCMA-ES (mu_w=1.5,w_1=80%) in dimension 1 (seed=179597, Mon May 15 10:40:18 2023)\n",
      "Iterat #Fevals   function value    axis ratio  sigma  minstd maxstd min:sec\n",
      "    1       4 3.065575496209773e-05 1.0e+00 3.16e-01  3e-01  3e-01 0:0.0\n",
      "    2       8 2.240295119003336e-05 1.0e+00 2.53e-01  2e-01  2e-01 0:0.0\n",
      "    3      12 2.838137756312361e-04 1.0e+00 2.37e-01  2e-01  2e-01 0:0.0\n",
      "   40     160 1.360776894780080e-16 1.0e+00 1.38e-05  1e-07  1e-07 0:0.2\n",
      "termination on tolfun=1e-11 (Mon May 15 10:40:18 2023)\n",
      "final/bestever f-value = 5.024763e-17 4.270538e-18\n",
      "mean solution: [0.4146333]\n",
      "std deviation: [9.66542018e-08]\n",
      "WARNING: optimization in 1-D is not supported (code was never tested)\n",
      "initial solution x0= [0.5]\n",
      "(2_w,4mirr1)-aCMA-ES (mu_w=1.5,w_1=80%) in dimension 1 (seed=240105, Mon May 15 10:40:18 2023)\n",
      "Iterat #Fevals   function value    axis ratio  sigma  minstd maxstd min:sec\n",
      "    1       4 1.887848146265512e-05 1.0e+00 1.01e+00  1e+00  1e+00 0:0.0\n",
      "    2       8 1.860131552258196e-05 1.0e+00 8.23e-01  1e+00  1e+00 0:0.0\n",
      "    3      12 3.026756838535521e-04 1.0e+00 5.88e-01  6e-01  6e-01 0:0.0\n",
      "   47     188 2.380011802757966e-19 1.0e+00 1.61e-05  1e-07  1e-07 0:0.1\n",
      "termination on tolfun=1e-11 (Mon May 15 10:40:18 2023)\n",
      "final/bestever f-value = 4.172374e-18 1.174888e-19\n",
      "mean solution: [0.56876691]\n",
      "std deviation: [1.06804613e-07]\n",
      "WARNING: optimization in 1-D is not supported (code was never tested)\n",
      "initial solution x0= [0.5]\n",
      "(2_w,4mirr1)-aCMA-ES (mu_w=1.5,w_1=80%) in dimension 1 (seed=218128, Mon May 15 10:40:18 2023)\n",
      "Iterat #Fevals   function value    axis ratio  sigma  minstd maxstd min:sec\n",
      "    1       4 2.233721935928313e-04 1.0e+00 3.58e-01  3e-01  3e-01 0:0.0\n",
      "    2       8 4.649794244586322e-06 1.0e+00 3.46e-01  3e-01  3e-01 0:0.0\n",
      "    3      12 1.643483102596289e-05 1.0e+00 2.97e-01  2e-01  2e-01 0:0.0\n",
      "   34     136 3.365361682098719e-16 1.0e+00 6.71e-05  1e-06  1e-06 0:0.1\n",
      "termination on tolfun=1e-11 (Mon May 15 10:40:18 2023)\n",
      "final/bestever f-value = 6.727279e-16 2.464710e-21\n",
      "mean solution: [0.85145991]\n",
      "std deviation: [1.00065245e-06]\n",
      "WARNING: optimization in 1-D is not supported (code was never tested)\n",
      "initial solution x0= [0.5]\n",
      "(2_w,4mirr1)-aCMA-ES (mu_w=1.5,w_1=80%) in dimension 1 (seed=221833, Mon May 15 10:40:18 2023)\n",
      "Iterat #Fevals   function value    axis ratio  sigma  minstd maxstd min:sec\n",
      "    1       4 1.344634125954564e-03 1.0e+00 3.52e-01  3e-01  3e-01 0:0.0\n",
      "    2       8 1.002065273187009e-04 1.0e+00 4.60e-01  4e-01  4e-01 0:0.0\n",
      "    3      12 9.700879712091315e-07 1.0e+00 5.57e-01  5e-01  5e-01 0:0.0\n",
      "   40     160 3.892775381324015e-20 1.0e+00 2.95e-05  3e-07  3e-07 0:0.3\n",
      "termination on tolfun=1e-11 (Mon May 15 10:40:18 2023)\n",
      "final/bestever f-value = 5.319462e-18 3.892775e-20\n",
      "mean solution: [1.18419017]\n",
      "std deviation: [2.81917812e-07]\n",
      "WARNING: optimization in 1-D is not supported (code was never tested)\n",
      "initial solution x0= [0.5]\n",
      "(2_w,4mirr1)-aCMA-ES (mu_w=1.5,w_1=80%) in dimension 1 (seed=199576, Mon May 15 10:40:18 2023)\n",
      "Iterat #Fevals   function value    axis ratio  sigma  minstd maxstd min:sec\n",
      "    1       4 3.332160328182840e-05 1.0e+00 9.37e-01  1e+00  1e+00 0:0.0\n",
      "    2       8 1.017795497286174e-04 1.0e+00 8.85e-01  1e+00  1e+00 0:0.0\n",
      "    3      12 1.028947682704036e-05 1.0e+00 7.10e-01  7e-01  7e-01 0:0.0\n",
      "   45     180 1.780238679635647e-17 1.0e+00 5.76e-05  5e-07  5e-07 0:0.1\n",
      "termination on tolfun=1e-11 (Mon May 15 10:40:18 2023)\n",
      "final/bestever f-value = 1.903367e-17 1.780239e-17\n",
      "mean solution: [1.52520838]\n",
      "std deviation: [4.78631015e-07]\n",
      "WARNING: optimization in 1-D is not supported (code was never tested)\n",
      "initial solution x0= [0.5]\n",
      "(2_w,4mirr1)-aCMA-ES (mu_w=1.5,w_1=80%) in dimension 1 (seed=227602, Mon May 15 10:40:18 2023)\n",
      "Iterat #Fevals   function value    axis ratio  sigma  minstd maxstd min:sec\n",
      "    1       4 2.565712968671116e-03 1.0e+00 5.99e-01  6e-01  6e-01 0:0.0\n",
      "    2       8 7.223543775336677e-04 1.0e+00 6.92e-01  7e-01  7e-01 0:0.0\n",
      "    3      12 3.440601114916396e-04 1.0e+00 6.37e-01  6e-01  6e-01 0:0.0\n",
      "   42     168 4.146691524093038e-16 1.0e+00 9.40e-05  1e-06  1e-06 0:0.1\n",
      "termination on tolfun=1e-11 (Mon May 15 10:40:18 2023)\n",
      "final/bestever f-value = 1.286741e-15 2.253791e-18\n",
      "mean solution: [1.86622616]\n",
      "std deviation: [1.09067833e-06]\n",
      "WARNING: optimization in 1-D is not supported (code was never tested)\n",
      "initial solution x0= [0.5]\n",
      "(2_w,4mirr1)-aCMA-ES (mu_w=1.5,w_1=80%) in dimension 1 (seed=214934, Mon May 15 10:40:18 2023)\n",
      "Iterat #Fevals   function value    axis ratio  sigma  minstd maxstd min:sec\n",
      "    1       4 5.402127715688341e-03 1.0e+00 5.27e-01  5e-01  5e-01 0:0.0\n",
      "    2       8 5.339996505930759e-03 1.0e+00 3.98e-01  3e-01  3e-01 0:0.0\n",
      "    3      12 2.166311129249372e-03 1.0e+00 7.61e-01  8e-01  8e-01 0:0.0\n",
      "   43     172 3.967099483321871e-15 1.0e+00 8.05e-05  9e-07  9e-07 0:0.1\n",
      "termination on tolfun=1e-11 (Mon May 15 10:40:19 2023)\n",
      "final/bestever f-value = 5.865863e-15 1.679741e-16\n",
      "mean solution: [2.20309505]\n",
      "std deviation: [8.71034525e-07]\n"
     ]
    }
   ],
   "source": [
    "def f_error(x, y_trg):\n",
    "    return np.square(f(x) - y_trg)\n",
    "\n",
    "y_trgs = np.arange(0.240, 0.620, 0.020)\n",
    "\n",
    "output = {'ytrgs':y_trgs, 'x_opts':[], 'f_x_opts':[], 'f_error_x_opts':[]}\n",
    "\n",
    "for y_trg in y_trgs:\n",
    "    x_opt = FMin(lambda x: f_error(x, y_trg), 0.5, 0.0, 5.0)\n",
    "    f_x_opt = f(x_opt)\n",
    "    f_error_x_opt = f_error(x_opt, y_trg)\n",
    "\n",
    "    output['x_opts'].append(x_opt)\n",
    "    output['f_x_opts'].append(f_x_opt)\n",
    "    output['f_error_x_opts'].append(f_error_x_opt)\n"
   ]
  },
  {
   "attachments": {},
   "cell_type": "markdown",
   "metadata": {},
   "source": [
    "Next, we use the *tabulate* library to print the dictionary created before in the form of a table and plot the estimated values. From the plot, the estimated $x_{opt}$ values for small $y_{trg}$ values are not accurate (underfitting) as their distances to the actual values are considerably large, considering the scale of the data. However, this does not happen to large $y_{trg}$ value since the function does not overfit nor underfit our data. Moreover, we can see that the function is able to predict $x_{opt}$ values outside the range of our $x$ and $y$ data (the line plot is not drawn due to our data range)."
   ]
  },
  {
   "cell_type": "code",
   "execution_count": 13,
   "metadata": {
    "colab": {
     "base_uri": "https://localhost:8080/",
     "height": 515
    },
    "hidePrompt": true,
    "id": "fV3kEbJaVOo4",
    "outputId": "2fd29f89-12aa-47f4-bd0c-d1327538c4e5"
   },
   "outputs": [
    {
     "name": "stdout",
     "output_type": "stream",
     "text": [
      "|   ytrgs |    x_opts |   f_x_opts |   f_error_x_opts |\n",
      "|---------|-----------|------------|------------------|\n",
      "|    0.24 | 0.0406614 |       0.24 |      8.50447e-20 |\n",
      "|    0.26 | 0.0675719 |       0.26 |      3.40888e-18 |\n",
      "|    0.28 | 0.0944823 |       0.28 |      6.79811e-20 |\n",
      "|    0.3  | 0.11765   |       0.3  |      2.2303e-16  |\n",
      "|    0.32 | 0.139842  |       0.32 |      2.76707e-19 |\n",
      "|    0.34 | 0.162035  |       0.34 |      2.25002e-16 |\n",
      "|    0.36 | 0.184228  |       0.36 |      2.57188e-18 |\n",
      "|    0.38 | 0.206421  |       0.38 |      3.7056e-20  |\n",
      "|    0.4  | 0.228613  |       0.4  |      1.28247e-20 |\n",
      "|    0.42 | 0.250806  |       0.42 |      7.287e-21   |\n",
      "|    0.44 | 0.272999  |       0.44 |      7.08747e-18 |\n",
      "|    0.46 | 0.299479  |       0.46 |      2.34346e-18 |\n",
      "|    0.48 | 0.414633  |       0.48 |      4.27054e-18 |\n",
      "|    0.5  | 0.568767  |       0.5  |      1.17489e-19 |\n",
      "|    0.52 | 0.85146   |       0.52 |      2.46471e-21 |\n",
      "|    0.54 | 1.18419   |       0.54 |      3.89278e-20 |\n",
      "|    0.56 | 1.52521   |       0.56 |      1.78024e-17 |\n",
      "|    0.58 | 1.86623   |       0.58 |      2.25379e-18 |\n",
      "|    0.6  | 2.20309   |       0.6  |      1.67974e-16 |\n"
     ]
    },
    {
     "data": {
      "image/png": "[encoded data removed]",
      "text/plain": [
       "<Figure size 640x480 with 1 Axes>"
      ]
     },
     "metadata": {},
     "output_type": "display_data"
    }
   ],
   "source": [
    "print(tabulate(output, headers='keys', tablefmt='github'))\n",
    "\n",
    "plot = PlotF(f, xmin=0.0, xmax=1.0, show=False)\n",
    "plot.plot(data_x, data_y, 'o', c='slategray')\n",
    "plot.plot(output['x_opts'], output['f_x_opts'], '*')\n",
    "plot.xlabel('Torque (scaled by 0.001)')\n",
    "plot.ylabel('Flying Distance (scaled by 0.01)')\n",
    "plot.title('Experimental Value of Torque vs. Flying Distance')\n",
    "plot.show()"
   ]
  },
  {
   "attachments": {},
   "cell_type": "markdown",
   "metadata": {},
   "source": [
    "After that, we multiply the $x_{opt}$ values by $1000$ to obtain the torque values. Then we input these torque values into the robot simulator and record the flying distance using the same command as in previous experiments. In order to ease the comparison, we plot the MLP-estimated results and the true $y$ values. \n",
    "\n",
    "From the graph, we can see that for small $y_{trg}$ values, the $x_{opt}$ obtained from the trained-MLP and optimizer yields a really small flying distance value in the actual situation. On the other hand, when the $y_{trg}$ values are large, the $x_{opt}$ values tend to go up linearly while the true value reaches an asymptote value of around $50.11$ m. Overall, the estimated values are not really accurate compared with the real flying distance. \n",
    "\n",
    "Next, we calculate the Root Mean Squared Error (RMSE) metric as it is the standard method for deep learning techniques. The result of the RMSE value is considerably high.  Several reasons can cause this high error:\n",
    "\n",
    "* Limited data. The number of samples used to train the model is very small, considering the extensive range of possible $y$ values. Like the usual deep learning model, a large amount of data is needed in order to properly train the model. The limited number of data also highlights the inability of our MLP model to predict the asymptote trend.\n",
    "\n",
    "* The model's hyperparameter: activation function, optimizer function, number of layers, number of neurons in each layer, learning rate, momentum, and others.\n",
    "\n",
    "* The scale number used to scale the data might not be the best one.\n",
    "\n",
    "Lastly, we can improve the model's performance by addressing the above issues. This can be done by trial and error or using existing algorithms that can improve a model's efficiency and accuracy."
   ]
  },
  {
   "cell_type": "code",
   "execution_count": 14,
   "metadata": {
    "hidePrompt": true
   },
   "outputs": [
    {
     "name": "stdout",
     "output_type": "stream",
     "text": [
      "|    torque |   y_ideal |   y_target |\n",
      "|-----------|-----------|------------|\n",
      "|   40.6614 |   10.8489 |         24 |\n",
      "|   67.5719 |   18.8529 |         26 |\n",
      "|   94.4823 |   22.9713 |         28 |\n",
      "|  117.65   |   26.8666 |         30 |\n",
      "|  139.842  |   31.24   |         32 |\n",
      "|  162.035  |   35.9918 |         34 |\n",
      "|  184.228  |   41.3251 |         36 |\n",
      "|  206.421  |   44.2194 |         38 |\n",
      "|  228.613  |   46.1718 |         40 |\n",
      "|  250.806  |   46.1881 |         42 |\n",
      "|  272.999  |   44.2809 |         44 |\n",
      "|  299.479  |   46.8443 |         46 |\n",
      "|  414.633  |   47.7033 |         48 |\n",
      "|  568.767  |   52.7471 |         50 |\n",
      "|  851.46   |   50.1126 |         52 |\n",
      "| 1184.19   |   50.1164 |         54 |\n",
      "| 1525.21   |   50.1164 |         56 |\n",
      "| 1866.23   |   50.1123 |         58 |\n",
      "| 2203.09   |   50.1124 |         60 |\n"
     ]
    }
   ],
   "source": [
    "# Rescaling the data to obtain the torque\n",
    "torque = np.array(output['x_opts']) * 1000 \n",
    "y_ideal = np.array([10.8489, 18.85292, 22.97134, 26.86658, 31.23996, 35.99181, 41.32508, 44.21941, 46.17176, \n",
    "                    46.18808, 44.28088, 46.84426, 47.7033, 52.74706, 50.1126, 50.11637, 50.11638, 50.11226, 50.11239])\n",
    "\n",
    "print(tabulate(zip(torque, y_ideal, y_trgs * 100), headers=['torque', 'y_ideal', 'y_target'], tablefmt='github'))"
   ]
  },
  {
   "attachments": {},
   "cell_type": "markdown",
   "metadata": {},
   "source": [
    "# Discussion"
   ]
  },
  {
   "attachments": {},
   "cell_type": "markdown",
   "metadata": {},
   "source": [
    "In order to ease the comparison, we plot the MLP-estimated results and the true $y$ values in the following figure.\n",
    "\n",
    "From the graph, we can see that for small $y_{trg}$ values, the $x_{opt}$ obtained from the trained-MLP and optimizer yields a really small flying distance value in the actual situation. On the other hand, when the $y_{trg}$ values are large, the $x_{opt}$ values tend to go up linearly while the true value reaches an asymptote value of around $50.11$ m. Overall, the estimated values are not really accurate compared with the real flying distance. \n",
    "\n",
    "Next, we calculate the Root Mean Squared Error (RMSE) metric as it is the standard method for deep learning techniques [<a href='https://machinelearningmastery.com/regression-metrics-for-machine-learning/'>7</a>]. The result of the RMSE value is considerably high.  Several reasons can cause this high error:\n",
    "\n",
    "* Limited data. The number of samples used to train the model is very small, considering the extensive range of possible $y$ values. Like the usual deep learning model, a large amount of data is needed in order to properly train the model. The limited number of data also highlights the inability of our MLP model to predict the asymptote trend.\n",
    "\n",
    "* The model's hyperparameter: activation function, optimizer function, number of layers, number of neurons in each layer, learning rate, momentum, and others.\n",
    "\n",
    "* The scale number used to scale the data might not be the best one.\n",
    "\n",
    "* Others\n",
    "\n",
    "Lastly, we can improve the model's performance by addressing the above issues. This can be done by trial and error or using existing algorithms that can improve a model's efficiency and accuracy."
   ]
  },
  {
   "cell_type": "code",
   "execution_count": 15,
   "metadata": {
    "hidePrompt": true
   },
   "outputs": [
    {
     "data": {
      "image/png": "[encoded data removed]",
      "text/plain": [
       "<Figure size 640x480 with 1 Axes>"
      ]
     },
     "metadata": {},
     "output_type": "display_data"
    }
   ],
   "source": [
    "# Plot to make comparison easier\n",
    "plot = PlotF(f, xmin=0.0, xmax=1.0, show=False)\n",
    "plot.plot(output['x_opts'], output['f_x_opts'], '*', label='MLP-estimated value')\n",
    "plot.plot(output['x_opts'], y_ideal * 0.01, 'x', c='r', label='True value')\n",
    "plot.xlabel('Torque (scaled by 0.001)')\n",
    "plot.ylabel('Flying Distance (scaled by 0.01)')\n",
    "plot.title('Experimental Value of Torque vs. Flying Distance')\n",
    "plot.legend(loc='center left', bbox_to_anchor=(1, 0.5))\n",
    "plot.show()"
   ]
  },
  {
   "cell_type": "code",
   "execution_count": 16,
   "metadata": {},
   "outputs": [
    {
     "name": "stdout",
     "output_type": "stream",
     "text": [
      "Root Mean Square Error: 5.656948331877966\n"
     ]
    }
   ],
   "source": [
    "RMSE = np.sqrt(np.mean((y_ideal - y_trgs * 100) ** 2))\n",
    "print(f'Root Mean Square Error: {RMSE}')"
   ]
  },
  {
   "attachments": {},
   "cell_type": "markdown",
   "metadata": {},
   "source": [
    "# Conclusion"
   ]
  },
  {
   "attachments": {},
   "cell_type": "markdown",
   "metadata": {},
   "source": [
    "In this experiment, we learned how to utilize machine learning to control the robot's arm behaviour. We also discussed machine learning terms like the multi-layer perceptron model, regression, and optimization function. We train the model by creating a dataset consisting of a control parameter (torque) and the dependent variable (flying distance). After training the model, we evaluate the model's performance by observing the generated plot. Moreover, we also utilized the CMA-es algorithm to optimize an objective function, which allows us to obtain a torque value by inputting the desired flying distance to the objective function. However, the result is considered inaccurate, and several hypotheses were proposed that might explain the bad result."
   ]
  },
  {
   "attachments": {},
   "cell_type": "markdown",
   "metadata": {},
   "source": [
    "# Reference"
   ]
  },
  {
   "attachments": {},
   "cell_type": "markdown",
   "metadata": {},
   "source": [
    "[1] Machine Learning for Robot Control (Lab Experiment II) — Machine Learning for Robot Control (Lab Experiment II). http://www.ic.is.tohoku.ac.jp/%7Eswk/lecture/exp2/\n",
    "\n",
    "[2] Zhang, A. (2022). Dive into Deep Learning: 5. Multilayer Perceptrons. https://d2l.ai/chapter_multilayer-perceptrons/index.html\n",
    "\n",
    "[3] Hansen, N. (2016). The CMA evolution strategy: A tutorial. https://doi.org/10.48550/arXiv.1604.00772.\n",
    "\n",
    "[4] Wikipedia contributors. (2022, November 22). CMA-ES. Wikipedia. https://en.wikipedia.org/wiki/CMA-ES\n",
    "\n",
    "[5] NumPy documentation — NumPy v1.23 Manual. (n.d.). https://numpy.org/doc/stable/\n",
    "\n",
    "[6] tabulate. (2022, October 6). PyPI. https://pypi.org/project/tabulate/\n",
    "\n",
    "[7] Brownlee, J. (2021, January 2021). Regression Metrics for Machine Learning. https://machinelearningmastery.com/regression-metrics-for-machine-learning/"
   ]
  },
  {
   "attachments": {},
   "cell_type": "markdown",
   "metadata": {},
   "source": [
    "# Addition\n",
    "This part is only a little exploration that I did on how to utilize all available parameters (torque, initial angle, target angle) by implementing the cma package. In my opinion, adding some features to the contol parameters allow the model to learn more appropiately, resulting a better accuracy. Moreover, I also utilized more samples in this exploration as there are greater number of possible combinations compared to the case where we only tweak one independent variables."
   ]
  },
  {
   "cell_type": "code",
   "execution_count": 17,
   "metadata": {
    "hidePrompt": true
   },
   "outputs": [],
   "source": [
    "# Importing necessary packages\n",
    "from sklearn.neural_network import MLPRegressor\n",
    "import pandas as pd\n",
    "from sklearn.model_selection import train_test_split"
   ]
  },
  {
   "cell_type": "code",
   "execution_count": 18,
   "metadata": {
    "hideOutput": true,
    "hidePrompt": true
   },
   "outputs": [
    {
     "name": "stdout",
     "output_type": "stream",
     "text": [
      "Collecting cma\n",
      "  Downloading cma-3.3.0-py3-none-any.whl (260 kB)\n",
      "\u001b[2K     \u001b[90m━━━━━━━━━━━━━━━━━━━━━━━━━━━━━━━━━━━━━\u001b[0m \u001b[32m260.7/260.7 kB\u001b[0m \u001b[31m579.2 kB/s\u001b[0m eta \u001b[36m0:00:00\u001b[0m00:01\u001b[0m00:01\u001b[0m\n",
      "\u001b[?25hRequirement already satisfied: numpy in /home/farrosalferro/miniconda3/envs/PythonEngineer/lib/python3.9/site-packages (from cma) (1.23.4)\n",
      "Installing collected packages: cma\n",
      "Successfully installed cma-3.3.0\n"
     ]
    },
    {
     "name": "stderr",
     "output_type": "stream",
     "text": [
      "/tmp/ipykernel_10651/2512251052.py:5: DeprecationWarning: the imp module is deprecated in favour of importlib; see the module's documentation for alternative uses\n",
      "  import imp\n"
     ]
    },
    {
     "data": {
      "text/plain": [
       "<module 'cma' from '/home/farrosalferro/miniconda3/envs/PythonEngineer/lib/python3.9/site-packages/cma/__init__.py'>"
      ]
     },
     "execution_count": 18,
     "metadata": {},
     "output_type": "execute_result"
    }
   ],
   "source": [
    "sys.path.pop(-1)\n",
    "# We download and install cma package from the internet as I have tried using cma.py module in 'ai_ctrl_1' \n",
    "# directory and it is not working for >=1 dimension parameter.\n",
    "! pip install cma\n",
    "import imp\n",
    "imp.reload(cma)"
   ]
  },
  {
   "cell_type": "code",
   "execution_count": 19,
   "metadata": {
    "hidePrompt": true
   },
   "outputs": [
    {
     "name": "stdout",
     "output_type": "stream",
     "text": [
      "   Initial Angle  Final Angle  Torque  First Landing Position\n",
      "0             30           80     100                11.01115\n",
      "1             30           80     110                11.54333\n",
      "2             30           80     120                12.13412\n",
      "3             30           80     130                12.48524\n",
      "4             30           80     140                12.06657\n"
     ]
    },
    {
     "data": {
      "text/plain": [
       "(196, 4)"
      ]
     },
     "execution_count": 19,
     "metadata": {},
     "output_type": "execute_result"
    }
   ],
   "source": [
    "# Importing the data. The file 'Data.xlsx' is located in my local directory\n",
    "df = pd.read_excel('Data.xlsx', index_col=None, header=0)\n",
    "print(df.head())\n",
    "df.shape"
   ]
  },
  {
   "cell_type": "code",
   "execution_count": 20,
   "metadata": {
    "hideOutput": true,
    "hidePrompt": true
   },
   "outputs": [
    {
     "name": "stdout",
     "output_type": "stream",
     "text": [
      "x: [[0.03 0.08 0.1 ]\n",
      " [0.03 0.08 0.11]\n",
      " [0.03 0.08 0.12]\n",
      " [0.03 0.08 0.13]\n",
      " [0.03 0.08 0.14]\n",
      " [0.03 0.08 0.15]\n",
      " [0.03 0.08 0.16]\n",
      " [0.03 0.08 0.17]\n",
      " [0.03 0.08 0.18]\n",
      " [0.03 0.08 0.19]\n",
      " [0.03 0.08 0.2 ]\n",
      " [0.03 0.09 0.1 ]\n",
      " [0.03 0.09 0.11]\n",
      " [0.03 0.09 0.12]\n",
      " [0.03 0.09 0.13]\n",
      " [0.03 0.09 0.14]\n",
      " [0.03 0.09 0.15]\n",
      " [0.03 0.09 0.16]\n",
      " [0.03 0.09 0.17]\n",
      " [0.03 0.09 0.18]\n",
      " [0.03 0.09 0.19]\n",
      " [0.03 0.09 0.2 ]\n",
      " [0.03 0.1  0.1 ]\n",
      " [0.03 0.1  0.11]\n",
      " [0.03 0.1  0.12]\n",
      " [0.03 0.1  0.13]\n",
      " [0.03 0.1  0.14]\n",
      " [0.03 0.1  0.15]\n",
      " [0.03 0.1  0.16]\n",
      " [0.03 0.1  0.17]\n",
      " [0.03 0.1  0.18]\n",
      " [0.03 0.1  0.19]\n",
      " [0.03 0.1  0.2 ]\n",
      " [0.03 0.11 0.1 ]\n",
      " [0.03 0.11 0.11]\n",
      " [0.03 0.11 0.12]\n",
      " [0.03 0.11 0.13]\n",
      " [0.03 0.11 0.14]\n",
      " [0.03 0.11 0.15]\n",
      " [0.03 0.11 0.16]\n",
      " [0.03 0.11 0.17]\n",
      " [0.03 0.11 0.18]\n",
      " [0.03 0.11 0.19]\n",
      " [0.03 0.11 0.2 ]\n",
      " [0.03 0.12 0.1 ]\n",
      " [0.03 0.12 0.11]\n",
      " [0.03 0.12 0.12]\n",
      " [0.03 0.12 0.13]\n",
      " [0.03 0.12 0.14]\n",
      " [0.03 0.12 0.15]\n",
      " [0.03 0.12 0.16]\n",
      " [0.03 0.12 0.17]\n",
      " [0.03 0.12 0.18]\n",
      " [0.03 0.12 0.19]\n",
      " [0.03 0.12 0.2 ]\n",
      " [0.02 0.08 0.1 ]\n",
      " [0.02 0.08 0.11]\n",
      " [0.02 0.08 0.12]\n",
      " [0.02 0.08 0.13]\n",
      " [0.02 0.08 0.14]\n",
      " [0.02 0.08 0.15]\n",
      " [0.02 0.08 0.16]\n",
      " [0.02 0.08 0.17]\n",
      " [0.02 0.08 0.18]\n",
      " [0.02 0.08 0.19]\n",
      " [0.02 0.08 0.2 ]\n",
      " [0.02 0.09 0.1 ]\n",
      " [0.02 0.09 0.11]\n",
      " [0.02 0.09 0.12]\n",
      " [0.02 0.09 0.13]\n",
      " [0.02 0.09 0.14]\n",
      " [0.02 0.09 0.15]\n",
      " [0.02 0.09 0.16]\n",
      " [0.02 0.09 0.17]\n",
      " [0.02 0.09 0.18]\n",
      " [0.02 0.09 0.19]\n",
      " [0.02 0.09 0.2 ]\n",
      " [0.02 0.1  0.1 ]\n",
      " [0.02 0.1  0.11]\n",
      " [0.02 0.1  0.12]\n",
      " [0.02 0.1  0.13]\n",
      " [0.02 0.1  0.14]\n",
      " [0.02 0.1  0.15]\n",
      " [0.02 0.1  0.16]\n",
      " [0.02 0.1  0.17]\n",
      " [0.02 0.1  0.18]\n",
      " [0.02 0.1  0.19]\n",
      " [0.02 0.1  0.2 ]\n",
      " [0.02 0.11 0.1 ]\n",
      " [0.02 0.11 0.11]\n",
      " [0.02 0.11 0.12]\n",
      " [0.02 0.11 0.13]\n",
      " [0.02 0.11 0.14]\n",
      " [0.02 0.11 0.15]\n",
      " [0.02 0.11 0.16]\n",
      " [0.02 0.11 0.17]\n",
      " [0.02 0.11 0.18]\n",
      " [0.02 0.11 0.19]\n",
      " [0.02 0.11 0.2 ]\n",
      " [0.02 0.12 0.1 ]\n",
      " [0.02 0.12 0.11]\n",
      " [0.02 0.12 0.12]\n",
      " [0.02 0.12 0.13]\n",
      " [0.02 0.12 0.14]\n",
      " [0.02 0.12 0.15]\n",
      " [0.02 0.12 0.16]\n",
      " [0.02 0.12 0.17]\n",
      " [0.02 0.12 0.18]\n",
      " [0.02 0.12 0.19]\n",
      " [0.02 0.12 0.2 ]\n",
      " [0.01 0.08 0.1 ]\n",
      " [0.01 0.08 0.11]\n",
      " [0.01 0.08 0.12]\n",
      " [0.01 0.08 0.13]\n",
      " [0.01 0.08 0.14]\n",
      " [0.01 0.08 0.15]\n",
      " [0.01 0.08 0.16]\n",
      " [0.01 0.08 0.17]\n",
      " [0.01 0.08 0.18]\n",
      " [0.01 0.08 0.19]\n",
      " [0.01 0.08 0.2 ]\n",
      " [0.01 0.09 0.1 ]\n",
      " [0.01 0.09 0.11]\n",
      " [0.01 0.09 0.12]\n",
      " [0.01 0.09 0.13]\n",
      " [0.01 0.09 0.14]\n",
      " [0.01 0.09 0.15]\n",
      " [0.01 0.09 0.16]\n",
      " [0.01 0.09 0.17]\n",
      " [0.01 0.09 0.18]\n",
      " [0.01 0.09 0.19]\n",
      " [0.01 0.09 0.2 ]\n",
      " [0.01 0.1  0.1 ]\n",
      " [0.01 0.1  0.11]\n",
      " [0.01 0.1  0.12]\n",
      " [0.01 0.1  0.13]\n",
      " [0.01 0.1  0.14]\n",
      " [0.01 0.1  0.15]\n",
      " [0.01 0.1  0.16]\n",
      " [0.01 0.1  0.17]\n",
      " [0.01 0.1  0.18]\n",
      " [0.01 0.1  0.19]\n",
      " [0.01 0.1  0.2 ]\n",
      " [0.01 0.11 0.1 ]\n",
      " [0.01 0.11 0.11]\n",
      " [0.01 0.11 0.12]\n",
      " [0.01 0.11 0.13]\n",
      " [0.01 0.11 0.14]\n",
      " [0.01 0.11 0.15]\n",
      " [0.01 0.11 0.16]\n",
      " [0.01 0.11 0.17]\n",
      " [0.01 0.11 0.18]\n",
      " [0.01 0.11 0.19]\n",
      " [0.01 0.11 0.2 ]\n",
      " [0.01 0.12 0.1 ]\n",
      " [0.01 0.12 0.11]\n",
      " [0.01 0.12 0.12]\n",
      " [0.01 0.12 0.13]\n",
      " [0.01 0.12 0.14]\n",
      " [0.01 0.12 0.15]\n",
      " [0.01 0.12 0.16]\n",
      " [0.01 0.12 0.17]\n",
      " [0.01 0.12 0.18]\n",
      " [0.01 0.12 0.19]\n",
      " [0.01 0.12 0.2 ]\n",
      " [0.03 0.08 0.24]\n",
      " [0.03 0.08 0.28]\n",
      " [0.03 0.08 0.32]\n",
      " [0.03 0.08 0.36]\n",
      " [0.03 0.08 0.4 ]\n",
      " [0.03 0.08 0.44]\n",
      " [0.03 0.08 0.48]\n",
      " [0.03 0.08 0.52]\n",
      " [0.03 0.08 0.56]\n",
      " [0.03 0.08 0.6 ]\n",
      " [0.03 0.08 0.64]\n",
      " [0.03 0.08 0.68]\n",
      " [0.03 0.08 0.72]\n",
      " [0.03 0.08 0.76]\n",
      " [0.03 0.08 0.8 ]\n",
      " [0.02 0.11 0.24]\n",
      " [0.02 0.11 0.28]\n",
      " [0.02 0.11 0.32]\n",
      " [0.02 0.11 0.36]\n",
      " [0.02 0.11 0.4 ]\n",
      " [0.02 0.11 0.44]\n",
      " [0.02 0.11 0.48]\n",
      " [0.02 0.11 0.52]\n",
      " [0.02 0.11 0.56]\n",
      " [0.02 0.11 0.6 ]\n",
      " [0.02 0.11 0.64]\n",
      " [0.02 0.11 0.68]\n",
      " [0.02 0.11 0.72]\n",
      " [0.02 0.11 0.76]\n",
      " [0.02 0.11 0.8 ]\n",
      " [0.02 0.11 0.84]], (196, 3)\n",
      "y: [0.1101115 0.1154333 0.1213412 0.1248524 0.1206657 0.1305403 0.1307766\n",
      " 0.1371711 0.1335009 0.1484324 0.1384    0.1529965 0.1542236 0.1598759\n",
      " 0.1698572 0.1839131 0.182097  0.1836666 0.1973083 0.1915363 0.2030403\n",
      " 0.2051081 0.1906575 0.200252  0.2145302 0.2242798 0.2272538 0.2357882\n",
      " 0.2601934 0.2487757 0.2675261 0.2609099 0.282063  0.231295  0.2627577\n",
      " 0.272061  0.2832163 0.2975149 0.3197837 0.3181288 0.3197245 0.353122\n",
      " 0.3334323 0.3687712 0.2641732 0.2770607 0.3023755 0.322742  0.3398987\n",
      " 0.3667144 0.3775494 0.3797865 0.4225573 0.4029695 0.4516068 0.1260786\n",
      " 0.1416735 0.1468192 0.1534508 0.1521283 0.1458341 0.1591879 0.1582861\n",
      " 0.1634031 0.1599382 0.172353  0.1812246 0.1929899 0.1926655 0.1991982\n",
      " 0.2083119 0.223314  0.2263811 0.21932   0.2429416 0.2260745 0.249948\n",
      " 0.2286309 0.2435123 0.2698608 0.2862314 0.2938187 0.2930994 0.286891\n",
      " 0.3121075 0.3157072 0.3153349 0.3290195 0.2421888 0.2551657 0.2752911\n",
      " 0.2960749 0.3153964 0.3264215 0.3523895 0.3665649 0.3677268 0.3807054\n",
      " 0.4209496 0.2421917 0.2556038 0.275713  0.2949236 0.3154155 0.3407713\n",
      " 0.3603629 0.3712883 0.4166972 0.4114004 0.4459052 0.1473629 0.1577147\n",
      " 0.1651177 0.1660183 0.1718898 0.1753959 0.1625274 0.1711807 0.1767703\n",
      " 0.1709704 0.176946  0.1702267 0.1811507 0.1946713 0.2086756 0.2330958\n",
      " 0.230681  0.2261837 0.266948  0.2428811 0.2627285 0.2499951 0.1702265\n",
      " 0.1961542 0.2178043 0.2364339 0.2530861 0.2545644 0.2641302 0.2924978\n",
      " 0.3130155 0.3105117 0.3434882 0.1702268 0.1961271 0.2178382 0.2363956\n",
      " 0.2530837 0.2544867 0.2818539 0.2926733 0.3181794 0.3278833 0.3535778\n",
      " 0.1702269 0.1961544 0.2178377 0.2364337 0.2530823 0.2544855 0.2818524\n",
      " 0.2926732 0.3180561 0.3277949 0.3535804 0.1439666 0.1526076 0.1726504\n",
      " 0.1571951 0.1846711 0.1708687 0.1624582 0.1784192 0.186993  0.1789151\n",
      " 0.1692782 0.1641353 0.1604397 0.1771735 0.1994642 0.4195324 0.4577739\n",
      " 0.4668586 0.4601189 0.4948092 0.4790132 0.5036226 0.4709709 0.5356269\n",
      " 0.5058345 0.4833881 0.4923299 0.5417227 0.5217052 0.501124  0.5011637], (196,)\n"
     ]
    }
   ],
   "source": [
    "# We scale the dataset then split it into two: training and test dataset\n",
    "x = np.array([df.iloc[i, :3] for i in range(df.shape[0])]) * 0.001\n",
    "print(f'x: {x}, {x.shape}')\n",
    "y = np.array(df.iloc[:, 3]) * 0.01\n",
    "print(f'y: {y}, {y.shape}')\n",
    "X_train, X_test, y_train, y_test = train_test_split(x, y, test_size=0.05, random_state=1234)"
   ]
  },
  {
   "cell_type": "code",
   "execution_count": 21,
   "metadata": {
    "hidePrompt": true
   },
   "outputs": [
    {
     "data": {
      "text/plain": [
       "MLPRegressor(alpha=0.01, hidden_layer_sizes=(20, 20), max_iter=200000,\n",
       "             random_state=2, tol=1e-06)"
      ]
     },
     "execution_count": 21,
     "metadata": {},
     "output_type": "execute_result"
    }
   ],
   "source": [
    "# We train the model. The model's hyperparamters is the same as the one used in TrainMLPR\n",
    "model = MLPRegressor(activation='relu', hidden_layer_sizes=(20, 20), solver='adam', tol=1e-6, alpha=0.01, max_iter=200000, random_state=2)\n",
    "model.fit(X_train, y_train)"
   ]
  },
  {
   "cell_type": "code",
   "execution_count": 22,
   "metadata": {
    "hidePrompt": true
   },
   "outputs": [],
   "source": [
    "# Defining the objective function\n",
    "def f_error(x, y_trg):\n",
    "    return np.square(model.predict(x) - y_trg)"
   ]
  },
  {
   "cell_type": "code",
   "execution_count": 23,
   "metadata": {
    "hidePrompt": true
   },
   "outputs": [],
   "source": [
    "# The CMA-es algorithm to optimize the objective function. It is similar as FMin in previous exercise, \n",
    "# but it accepts multi-dimensional input\n",
    "def FMin(f, x_init, x_min, x_max):\n",
    "  options= {'bounds':[x_min, x_max], 'verb_log':0,'popsize':4}\n",
    "  res = cma.fmin(lambda x:f(x), x_init, 0.01, options)\n",
    "  return res"
   ]
  },
  {
   "cell_type": "code",
   "execution_count": 24,
   "metadata": {
    "collapsed": true,
    "hideOutput": true,
    "hidePrompt": true
   },
   "outputs": [
    {
     "name": "stdout",
     "output_type": "stream",
     "text": [
      "(2_w,4mirr1)-aCMA-ES (mu_w=1.5,w_1=80%) in dimension 3 (seed=224684, Mon May 15 10:40:30 2023)\n",
      "Iterat #Fevals   function value  axis ratio  sigma  min&max std  t[m:s]\n",
      "    1      4 5.008148813271706e-05 1.0e+00 7.33e-03  5e-03  7e-03 0:00.0\n",
      "    2      8 2.619957393271779e-05 1.1e+00 6.64e-03  4e-03  7e-03 0:00.0\n",
      "    3     12 2.656691301804338e-05 1.1e+00 4.78e-03  3e-03  5e-03 0:00.0\n"
     ]
    },
    {
     "name": "stderr",
     "output_type": "stream",
     "text": [
      "/home/farrosalferro/miniconda3/envs/PythonEngineer/lib/python3.9/site-packages/cma/evolution_strategy.py:1901: UserWarning: Sampling standard deviation i=0 at iteration 0 change by 0.6666666666666666 to stds[0]=0.006666666666666666\n",
      "  warnings.warn(\"Sampling standard deviation i={} at iteration {}\"\n",
      "/home/farrosalferro/miniconda3/envs/PythonEngineer/lib/python3.9/site-packages/cma/utilities/utils.py:343: UserWarning: function_values is not a list of scalars,\n",
      "                        the first element equals [0.00609043] with non-scalar type <class 'numpy.ndarray'>.\n",
      "                        Using now ``[v[0] for v in function_values]`` instead (further warnings are suppressed) ()\n",
      "  warnings.warn(msg + ' (' +\n",
      "/home/farrosalferro/miniconda3/envs/PythonEngineer/lib/python3.9/site-packages/cma/utilities/utils.py:343: UserWarning: function_values is not a list of scalars,\n",
      "                        the first element equals [3.06154681e-05] with non-scalar type <class 'numpy.ndarray'>.\n",
      "                        Using now ``[v[0] for v in function_values]`` instead (further warnings are suppressed) ()\n",
      "  warnings.warn(msg + ' (' +\n"
     ]
    },
    {
     "name": "stdout",
     "output_type": "stream",
     "text": [
      "   95    380 4.463489803281071e-17 9.7e+01 6.37e-07  6e-08  3e-07 0:00.3\n",
      "termination on tolfun=1e-11 (Mon May 15 10:40:30 2023)\n",
      "final/bestever f-value = 7.316681e-17 8.547921e-19 after 381/341 evaluations\n",
      "incumbent solution: [0.027157544902897672, 0.10103169754429156, 0.15848304599078228]\n",
      "std deviation: [2.517515219129346e-07, 5.737381071092003e-08, 2.844018064659509e-07]\n",
      "(2_w,4mirr1)-aCMA-ES (mu_w=1.5,w_1=80%) in dimension 3 (seed=243959, Mon May 15 10:40:30 2023)\n",
      "Iterat #Fevals   function value  axis ratio  sigma  min&max std  t[m:s]\n",
      "    1      4 6.425399441953463e-03 1.0e+00 9.80e-03  7e-03  1e-02 0:00.0\n",
      "    2      8 3.950105591825926e-03 1.2e+00 9.94e-03  7e-03  1e-02 0:00.0\n",
      "    3     12 3.471529750220991e-03 1.3e+00 8.43e-03  5e-03  8e-03 0:00.0\n"
     ]
    },
    {
     "name": "stderr",
     "output_type": "stream",
     "text": [
      "/home/farrosalferro/miniconda3/envs/PythonEngineer/lib/python3.9/site-packages/cma/evolution_strategy.py:1901: UserWarning: Sampling standard deviation i=0 at iteration 0 change by 0.6666666666666666 to stds[0]=0.006666666666666666\n",
      "  warnings.warn(\"Sampling standard deviation i={} at iteration {}\"\n",
      "/home/farrosalferro/miniconda3/envs/PythonEngineer/lib/python3.9/site-packages/cma/utilities/utils.py:343: UserWarning: function_values is not a list of scalars,\n",
      "                        the first element equals [0.00712677] with non-scalar type <class 'numpy.ndarray'>.\n",
      "                        Using now ``[v[0] for v in function_values]`` instead (further warnings are suppressed) ()\n",
      "  warnings.warn(msg + ' (' +\n",
      "/home/farrosalferro/miniconda3/envs/PythonEngineer/lib/python3.9/site-packages/cma/utilities/utils.py:343: UserWarning: function_values is not a list of scalars,\n",
      "                        the first element equals [0.00395011] with non-scalar type <class 'numpy.ndarray'>.\n",
      "                        Using now ``[v[0] for v in function_values]`` instead (further warnings are suppressed) ()\n",
      "  warnings.warn(msg + ' (' +\n"
     ]
    },
    {
     "name": "stdout",
     "output_type": "stream",
     "text": [
      "  100    400 4.845337548458478e-15 2.1e+01 3.03e-05  8e-07  3e-06 0:00.2\n",
      "  111    444 7.171791299873339e-16 3.7e+01 1.67e-05  4e-07  2e-06 0:00.2\n",
      "termination on tolfun=1e-11 (Mon May 15 10:40:30 2023)\n",
      "final/bestever f-value = 1.722081e-16 1.034048e-18 after 445/439 evaluations\n",
      "incumbent solution: [0.0317244996286449, 0.11975697981084818, 0.19210630293759978]\n",
      "std deviation: [3.9282922564109367e-07, 9.768147092283408e-07, 1.7333655493973816e-06]\n",
      "(2_w,4mirr1)-aCMA-ES (mu_w=1.5,w_1=80%) in dimension 3 (seed=220953, Mon May 15 10:40:30 2023)\n",
      "Iterat #Fevals   function value  axis ratio  sigma  min&max std  t[m:s]\n",
      "    1      4 9.202383732938706e-06 1.0e+00 1.29e-02  7e-03  1e-02 0:00.0\n",
      "    2      8 2.442560130515411e-06 1.1e+00 1.07e-02  6e-03  1e-02 0:00.0\n",
      "    3     12 6.111169714612497e-04 1.2e+00 1.05e-02  5e-03  1e-02 0:00.0\n"
     ]
    },
    {
     "name": "stderr",
     "output_type": "stream",
     "text": [
      "/home/farrosalferro/miniconda3/envs/PythonEngineer/lib/python3.9/site-packages/cma/evolution_strategy.py:1901: UserWarning: Sampling standard deviation i=0 at iteration 0 change by 0.6666666666666666 to stds[0]=0.006666666666666666\n",
      "  warnings.warn(\"Sampling standard deviation i={} at iteration {}\"\n",
      "/home/farrosalferro/miniconda3/envs/PythonEngineer/lib/python3.9/site-packages/cma/utilities/utils.py:343: UserWarning: function_values is not a list of scalars,\n",
      "                        the first element equals [9.20238373e-06] with non-scalar type <class 'numpy.ndarray'>.\n",
      "                        Using now ``[v[0] for v in function_values]`` instead (further warnings are suppressed) ()\n",
      "  warnings.warn(msg + ' (' +\n",
      "/home/farrosalferro/miniconda3/envs/PythonEngineer/lib/python3.9/site-packages/cma/utilities/utils.py:343: UserWarning: function_values is not a list of scalars,\n",
      "                        the first element equals [0.00400041] with non-scalar type <class 'numpy.ndarray'>.\n",
      "                        Using now ``[v[0] for v in function_values]`` instead (further warnings are suppressed) ()\n",
      "  warnings.warn(msg + ' (' +\n"
     ]
    },
    {
     "name": "stdout",
     "output_type": "stream",
     "text": [
      "  100    400 2.915159236445138e-09 6.1e+01 6.46e-04  2e-04  5e-04 0:00.2\n",
      "  153    612 9.810064923724996e-17 4.1e+02 4.32e-06  7e-07  2e-06 0:00.3\n",
      "termination on tolfun=1e-11 (Mon May 15 10:40:31 2023)\n",
      "final/bestever f-value = 1.395579e-16 6.561067e-18 after 613/591 evaluations\n",
      "incumbent solution: [0.028408942989303042, 0.09838988750071637, 0.13630135430326457]\n",
      "std deviation: [1.0907221068553022e-06, 7.236328190343357e-07, 1.976275709133327e-06]\n",
      "(2_w,4mirr1)-aCMA-ES (mu_w=1.5,w_1=80%) in dimension 3 (seed=243688, Mon May 15 10:40:31 2023)\n",
      "Iterat #Fevals   function value  axis ratio  sigma  min&max std  t[m:s]\n",
      "    1      4 1.558392284467131e-03 1.0e+00 1.15e-02  7e-03  1e-02 0:00.0\n",
      "    2      8 2.083543606571861e-04 1.3e+00 1.32e-02  7e-03  1e-02 0:00.0\n",
      "    3     12 7.340933537031372e-05 1.5e+00 1.41e-02  7e-03  1e-02 0:00.0\n"
     ]
    },
    {
     "name": "stderr",
     "output_type": "stream",
     "text": [
      "/home/farrosalferro/miniconda3/envs/PythonEngineer/lib/python3.9/site-packages/cma/evolution_strategy.py:1901: UserWarning: Sampling standard deviation i=0 at iteration 0 change by 0.6666666666666666 to stds[0]=0.006666666666666666\n",
      "  warnings.warn(\"Sampling standard deviation i={} at iteration {}\"\n",
      "/home/farrosalferro/miniconda3/envs/PythonEngineer/lib/python3.9/site-packages/cma/utilities/utils.py:343: UserWarning: function_values is not a list of scalars,\n",
      "                        the first element equals [0.00356629] with non-scalar type <class 'numpy.ndarray'>.\n",
      "                        Using now ``[v[0] for v in function_values]`` instead (further warnings are suppressed) ()\n",
      "  warnings.warn(msg + ' (' +\n",
      "/home/farrosalferro/miniconda3/envs/PythonEngineer/lib/python3.9/site-packages/cma/utilities/utils.py:343: UserWarning: function_values is not a list of scalars,\n",
      "                        the first element equals [0.00170313] with non-scalar type <class 'numpy.ndarray'>.\n",
      "                        Using now ``[v[0] for v in function_values]`` instead (further warnings are suppressed) ()\n",
      "  warnings.warn(msg + ' (' +\n"
     ]
    },
    {
     "name": "stdout",
     "output_type": "stream",
     "text": [
      "  100    400 5.861604738550443e-15 5.0e+01 4.30e-05  6e-06  1e-05 0:00.3\n",
      "  115    460 1.046282705438479e-18 1.1e+02 1.45e-05  2e-06  5e-06 0:00.3\n",
      "termination on tolfun=1e-11 (Mon May 15 10:40:31 2023)\n",
      "final/bestever f-value = 3.502680e-16 1.046283e-18 after 461/460 evaluations\n",
      "incumbent solution: [0.022260474684497537, 0.11949355840004625, 0.16724626354391692]\n",
      "std deviation: [4.652855877140143e-06, 3.965410428262622e-06, 2.3942567143863406e-06]\n",
      "(2_w,4mirr1)-aCMA-ES (mu_w=1.5,w_1=80%) in dimension 3 (seed=243184, Mon May 15 10:40:31 2023)\n",
      "Iterat #Fevals   function value  axis ratio  sigma  min&max std  t[m:s]\n",
      "    1      4 4.609739140617461e-03 1.0e+00 9.40e-03  6e-03  1e-02 0:00.0\n",
      "    2      8 8.611632109073153e-04 1.2e+00 1.28e-02  7e-03  1e-02 0:00.0\n",
      "    3     12 3.894206752569799e-05 1.5e+00 2.51e-02  7e-03  3e-02 0:00.0\n"
     ]
    },
    {
     "name": "stderr",
     "output_type": "stream",
     "text": [
      "/home/farrosalferro/miniconda3/envs/PythonEngineer/lib/python3.9/site-packages/cma/evolution_strategy.py:1901: UserWarning: Sampling standard deviation i=0 at iteration 0 change by 0.6666666666666666 to stds[0]=0.006666666666666666\n",
      "  warnings.warn(\"Sampling standard deviation i={} at iteration {}\"\n",
      "/home/farrosalferro/miniconda3/envs/PythonEngineer/lib/python3.9/site-packages/cma/utilities/utils.py:343: UserWarning: function_values is not a list of scalars,\n",
      "                        the first element equals [0.01270009] with non-scalar type <class 'numpy.ndarray'>.\n",
      "                        Using now ``[v[0] for v in function_values]`` instead (further warnings are suppressed) ()\n",
      "  warnings.warn(msg + ' (' +\n",
      "/home/farrosalferro/miniconda3/envs/PythonEngineer/lib/python3.9/site-packages/cma/utilities/utils.py:343: UserWarning: function_values is not a list of scalars,\n",
      "                        the first element equals [0.00606429] with non-scalar type <class 'numpy.ndarray'>.\n",
      "                        Using now ``[v[0] for v in function_values]`` instead (further warnings are suppressed) ()\n",
      "  warnings.warn(msg + ' (' +\n"
     ]
    },
    {
     "name": "stdout",
     "output_type": "stream",
     "text": [
      "  100    400 6.039069262236651e-15 7.0e+01 9.95e-05  1e-05  5e-05 0:00.2\n",
      "  119    476 9.484638188027564e-16 9.4e+01 2.06e-05  2e-06  6e-06 0:00.2\n",
      "termination on tolfun=1e-11 (Mon May 15 10:40:32 2023)\n",
      "final/bestever f-value = 2.480379e-16 3.946087e-19 after 477/407 evaluations\n",
      "incumbent solution: [0.03892659342665215, 0.11916749919253503, 0.19383261755877854]\n",
      "std deviation: [2.2442968259912967e-06, 2.2458431205848236e-06, 5.676567954330399e-06]\n",
      "(2_w,4mirr1)-aCMA-ES (mu_w=1.5,w_1=80%) in dimension 3 (seed=150478, Mon May 15 10:40:32 2023)\n",
      "Iterat #Fevals   function value  axis ratio  sigma  min&max std  t[m:s]\n",
      "    1      4 6.994238608166235e-04 1.0e+00 9.85e-03  6e-03  1e-02 0:00.0\n",
      "    2      8 3.283832060705492e-05 1.2e+00 1.00e-02  6e-03  1e-02 0:00.0\n",
      "    3     12 1.531202116601587e-04 1.3e+00 9.17e-03  6e-03  1e-02 0:00.0\n"
     ]
    },
    {
     "name": "stderr",
     "output_type": "stream",
     "text": [
      "/home/farrosalferro/miniconda3/envs/PythonEngineer/lib/python3.9/site-packages/cma/evolution_strategy.py:1901: UserWarning: Sampling standard deviation i=0 at iteration 0 change by 0.6666666666666666 to stds[0]=0.006666666666666666\n",
      "  warnings.warn(\"Sampling standard deviation i={} at iteration {}\"\n",
      "/home/farrosalferro/miniconda3/envs/PythonEngineer/lib/python3.9/site-packages/cma/utilities/utils.py:343: UserWarning: function_values is not a list of scalars,\n",
      "                        the first element equals [0.01419014] with non-scalar type <class 'numpy.ndarray'>.\n",
      "                        Using now ``[v[0] for v in function_values]`` instead (further warnings are suppressed) ()\n",
      "  warnings.warn(msg + ' (' +\n",
      "/home/farrosalferro/miniconda3/envs/PythonEngineer/lib/python3.9/site-packages/cma/utilities/utils.py:343: UserWarning: function_values is not a list of scalars,\n",
      "                        the first element equals [5.82415004e-05] with non-scalar type <class 'numpy.ndarray'>.\n",
      "                        Using now ``[v[0] for v in function_values]`` instead (further warnings are suppressed) ()\n",
      "  warnings.warn(msg + ' (' +\n"
     ]
    },
    {
     "name": "stdout",
     "output_type": "stream",
     "text": [
      "  100    400 1.369619271875191e-15 9.3e+01 3.87e-06  5e-07  3e-06 0:00.2\n",
      "  103    412 1.642342260328315e-17 1.2e+02 4.00e-06  6e-07  3e-06 0:00.2\n",
      "termination on tolfun=1e-11 (Mon May 15 10:40:32 2023)\n",
      "final/bestever f-value = 6.704368e-17 2.323759e-21 after 413/404 evaluations\n",
      "incumbent solution: [0.0394488305302837, 0.08829767630912896, 0.11486109911997963]\n",
      "std deviation: [9.11382804185042e-07, 5.824178745490907e-07, 3.130520424277159e-06]\n",
      "(2_w,4mirr1)-aCMA-ES (mu_w=1.5,w_1=80%) in dimension 3 (seed=242118, Mon May 15 10:40:32 2023)\n",
      "Iterat #Fevals   function value  axis ratio  sigma  min&max std  t[m:s]\n",
      "    1      4 2.249570354651279e-03 1.0e+00 7.86e-03  5e-03  8e-03 0:00.0\n",
      "    2      8 2.106727527242935e-04 1.1e+00 8.33e-03  5e-03  8e-03 0:00.0\n",
      "    3     12 5.382044667429767e-07 1.1e+00 8.80e-03  6e-03  8e-03 0:00.0\n"
     ]
    },
    {
     "name": "stderr",
     "output_type": "stream",
     "text": [
      "/home/farrosalferro/miniconda3/envs/PythonEngineer/lib/python3.9/site-packages/cma/evolution_strategy.py:1901: UserWarning: Sampling standard deviation i=0 at iteration 0 change by 0.6666666666666666 to stds[0]=0.006666666666666666\n",
      "  warnings.warn(\"Sampling standard deviation i={} at iteration {}\"\n",
      "/home/farrosalferro/miniconda3/envs/PythonEngineer/lib/python3.9/site-packages/cma/utilities/utils.py:343: UserWarning: function_values is not a list of scalars,\n",
      "                        the first element equals [0.00224957] with non-scalar type <class 'numpy.ndarray'>.\n",
      "                        Using now ``[v[0] for v in function_values]`` instead (further warnings are suppressed) ()\n",
      "  warnings.warn(msg + ' (' +\n",
      "/home/farrosalferro/miniconda3/envs/PythonEngineer/lib/python3.9/site-packages/cma/utilities/utils.py:343: UserWarning: function_values is not a list of scalars,\n",
      "                        the first element equals [0.00021067] with non-scalar type <class 'numpy.ndarray'>.\n",
      "                        Using now ``[v[0] for v in function_values]`` instead (further warnings are suppressed) ()\n",
      "  warnings.warn(msg + ' (' +\n"
     ]
    },
    {
     "name": "stdout",
     "output_type": "stream",
     "text": [
      "  100    400 1.911942072188886e-13 3.0e+01 3.28e-05  3e-06  1e-05 0:00.2\n",
      "  112    448 1.204812525244790e-14 8.3e+01 3.32e-05  4e-06  2e-05 0:00.2\n",
      "termination on tolfun=1e-11 (Mon May 15 10:40:32 2023)\n",
      "final/bestever f-value = 8.312494e-16 6.763351e-16 after 449/414 evaluations\n",
      "incumbent solution: [0.036514405779458005, 0.11999612932265125, 0.1263973711591579]\n",
      "std deviation: [1.7015107971778656e-05, 9.430683246684598e-06, 3.856527389233378e-06]\n",
      "(2_w,4mirr1)-aCMA-ES (mu_w=1.5,w_1=80%) in dimension 3 (seed=267024, Mon May 15 10:40:32 2023)\n",
      "Iterat #Fevals   function value  axis ratio  sigma  min&max std  t[m:s]\n",
      "    1      4 2.645457723194239e-03 1.0e+00 8.18e-03  5e-03  8e-03 0:00.0\n",
      "    2      8 5.512716446817819e-04 1.0e+00 9.67e-03  6e-03  1e-02 0:00.0\n",
      "    3     12 2.064331462213020e-05 1.2e+00 1.08e-02  7e-03  1e-02 0:00.0\n"
     ]
    },
    {
     "name": "stderr",
     "output_type": "stream",
     "text": [
      "/home/farrosalferro/miniconda3/envs/PythonEngineer/lib/python3.9/site-packages/cma/evolution_strategy.py:1901: UserWarning: Sampling standard deviation i=0 at iteration 0 change by 0.6666666666666666 to stds[0]=0.006666666666666666\n",
      "  warnings.warn(\"Sampling standard deviation i={} at iteration {}\"\n",
      "/home/farrosalferro/miniconda3/envs/PythonEngineer/lib/python3.9/site-packages/cma/utilities/utils.py:343: UserWarning: function_values is not a list of scalars,\n",
      "                        the first element equals [0.01659598] with non-scalar type <class 'numpy.ndarray'>.\n",
      "                        Using now ``[v[0] for v in function_values]`` instead (further warnings are suppressed) ()\n",
      "  warnings.warn(msg + ' (' +\n",
      "/home/farrosalferro/miniconda3/envs/PythonEngineer/lib/python3.9/site-packages/cma/utilities/utils.py:343: UserWarning: function_values is not a list of scalars,\n",
      "                        the first element equals [0.00055127] with non-scalar type <class 'numpy.ndarray'>.\n",
      "                        Using now ``[v[0] for v in function_values]`` instead (further warnings are suppressed) ()\n",
      "  warnings.warn(msg + ' (' +\n"
     ]
    },
    {
     "name": "stdout",
     "output_type": "stream",
     "text": [
      "  100    400 1.377568252405957e-15 3.7e+02 3.29e-05  1e-05  8e-05 0:00.2\n",
      "  120    480 8.809006148201121e-16 5.6e+02 4.14e-06  1e-06  6e-06 0:00.2\n",
      "termination on tolfun=1e-11 (Mon May 15 10:40:33 2023)\n",
      "final/bestever f-value = 9.470825e-16 1.335282e-18 after 481/409 evaluations\n",
      "incumbent solution: [0.02241327118614184, 0.08733223946786667, 0.12329964470654076]\n",
      "std deviation: [1.0193587726322376e-06, 1.2915829753726486e-06, 5.646461078444455e-06]\n",
      "(2_w,4mirr1)-aCMA-ES (mu_w=1.5,w_1=80%) in dimension 3 (seed=191110, Mon May 15 10:40:33 2023)\n",
      "Iterat #Fevals   function value  axis ratio  sigma  min&max std  t[m:s]\n",
      "    1      4 4.195870671636343e-02 1.0e+00 1.06e-02  7e-03  1e-02 0:00.0\n",
      "    2      8 3.098674110842275e-02 1.3e+00 1.60e-02  7e-03  2e-02 0:00.0\n",
      "    3     12 2.697412472540151e-02 1.3e+00 2.38e-02  7e-03  2e-02 0:00.0\n"
     ]
    },
    {
     "name": "stderr",
     "output_type": "stream",
     "text": [
      "/home/farrosalferro/miniconda3/envs/PythonEngineer/lib/python3.9/site-packages/cma/evolution_strategy.py:1901: UserWarning: Sampling standard deviation i=0 at iteration 0 change by 0.6666666666666666 to stds[0]=0.006666666666666666\n",
      "  warnings.warn(\"Sampling standard deviation i={} at iteration {}\"\n",
      "/home/farrosalferro/miniconda3/envs/PythonEngineer/lib/python3.9/site-packages/cma/utilities/utils.py:343: UserWarning: function_values is not a list of scalars,\n",
      "                        the first element equals [0.06420376] with non-scalar type <class 'numpy.ndarray'>.\n",
      "                        Using now ``[v[0] for v in function_values]`` instead (further warnings are suppressed) ()\n",
      "  warnings.warn(msg + ' (' +\n",
      "/home/farrosalferro/miniconda3/envs/PythonEngineer/lib/python3.9/site-packages/cma/utilities/utils.py:343: UserWarning: function_values is not a list of scalars,\n",
      "                        the first element equals [0.04895255] with non-scalar type <class 'numpy.ndarray'>.\n",
      "                        Using now ``[v[0] for v in function_values]`` instead (further warnings are suppressed) ()\n",
      "  warnings.warn(msg + ' (' +\n"
     ]
    },
    {
     "name": "stdout",
     "output_type": "stream",
     "text": [
      "  100    400 1.474009047422266e-02 4.1e+00 2.14e-06  4e-08  2e-07 0:00.2\n",
      "  115    460 1.474009047416744e-02 4.4e+00 4.77e-07  6e-09  3e-08 0:00.2\n",
      "termination on tolfun=1e-11 (Mon May 15 10:40:33 2023)\n",
      "final/bestever f-value = 1.474009e-02 1.474009e-02 after 461/437 evaluations\n",
      "incumbent solution: [0.020000000000007068, 0.11999999999999768, 0.199999999999997]\n",
      "std deviation: [1.2265687836262907e-08, 6.443912489098392e-09, 2.7542723212846897e-08]\n",
      "(2_w,4mirr1)-aCMA-ES (mu_w=1.5,w_1=80%) in dimension 3 (seed=234668, Mon May 15 10:40:33 2023)\n",
      "Iterat #Fevals   function value  axis ratio  sigma  min&max std  t[m:s]\n",
      "    1      4 2.482063199737192e-06 1.0e+00 8.18e-03  5e-03  8e-03 0:00.0\n",
      "    2      8 3.141965097785491e-04 1.1e+00 5.76e-03  4e-03  5e-03 0:00.0\n",
      "    3     12 8.580954013464404e-06 1.1e+00 5.84e-03  4e-03  5e-03 0:00.0\n"
     ]
    },
    {
     "name": "stderr",
     "output_type": "stream",
     "text": [
      "/home/farrosalferro/miniconda3/envs/PythonEngineer/lib/python3.9/site-packages/cma/evolution_strategy.py:1901: UserWarning: Sampling standard deviation i=0 at iteration 0 change by 0.6666666666666666 to stds[0]=0.006666666666666666\n",
      "  warnings.warn(\"Sampling standard deviation i={} at iteration {}\"\n",
      "/home/farrosalferro/miniconda3/envs/PythonEngineer/lib/python3.9/site-packages/cma/utilities/utils.py:343: UserWarning: function_values is not a list of scalars,\n",
      "                        the first element equals [2.4820632e-06] with non-scalar type <class 'numpy.ndarray'>.\n",
      "                        Using now ``[v[0] for v in function_values]`` instead (further warnings are suppressed) ()\n",
      "  warnings.warn(msg + ' (' +\n",
      "/home/farrosalferro/miniconda3/envs/PythonEngineer/lib/python3.9/site-packages/cma/utilities/utils.py:343: UserWarning: function_values is not a list of scalars,\n",
      "                        the first element equals [0.0006585] with non-scalar type <class 'numpy.ndarray'>.\n",
      "                        Using now ``[v[0] for v in function_values]`` instead (further warnings are suppressed) ()\n",
      "  warnings.warn(msg + ' (' +\n"
     ]
    },
    {
     "name": "stdout",
     "output_type": "stream",
     "text": [
      "  100    400 5.779666484766622e-14 6.9e+01 9.34e-05  3e-05  7e-05 0:00.2\n",
      "  125    500 2.260061958927776e-13 3.9e+02 5.96e-05  3e-05  5e-05 0:00.3\n",
      "termination on tolfun=1e-11 (Mon May 15 10:40:33 2023)\n",
      "final/bestever f-value = 2.298665e-13 5.520978e-17 after 501/433 evaluations\n",
      "incumbent solution: [0.020771759157005038, 0.09283834923512274, 0.15193731947476768]\n",
      "std deviation: [3.591792105930325e-05, 2.6872399941026223e-05, 5.103964937688199e-05]\n"
     ]
    }
   ],
   "source": [
    "# Start optimizing the objective function and obtain x_opt for each test y value.\n",
    "x_init = np.array([0.03, 0.1, 0.15])\n",
    "x_min = np.array([0.02, 0.08, 0.1])\n",
    "x_max = np.array([0.04, 0.12, 0.2])\n",
    "x_opts = [FMin(lambda x: f_error(x.reshape(1, -1), y_trg), x_init, x_min, x_max)[0] for y_trg in y_test]"
   ]
  },
  {
   "cell_type": "code",
   "execution_count": 25,
   "metadata": {
    "hidePrompt": true
   },
   "outputs": [],
   "source": [
    "# Defining Root Mean Square Error function between the prediction and the true value.\n",
    "def RMSE(y_predict, y_real):\n",
    "  return np.sqrt(np.sum(np.square(y_predict - y_real)))"
   ]
  },
  {
   "cell_type": "code",
   "execution_count": 26,
   "metadata": {
    "hidePrompt": true
   },
   "outputs": [
    {
     "name": "stdout",
     "output_type": "stream",
     "text": [
      "RMSE error: 1.3417644158501918\n"
     ]
    }
   ],
   "source": [
    "# Print the error\n",
    "error = RMSE(model.predict(x_opts), y_test.reshape(-1,1))\n",
    "print(f'RMSE error: {error}')"
   ]
  },
  {
   "attachments": {},
   "cell_type": "markdown",
   "metadata": {
    "hidePrompt": true
   },
   "source": [
    "As we can see, the error reduces from $5.65$ to $1.34$, which is quite significant. We can further improve the model's performance as already explained in the Discussion section."
   ]
  }
 ],
 "metadata": {
  "celltoolbar": "Hide code",
  "colab": {
   "provenance": []
  },
  "kernelspec": {
   "display_name": "Python 3 (ipykernel)",
   "language": "python",
   "name": "python3"
  },
  "language_info": {
   "codemirror_mode": {
    "name": "ipython",
    "version": 3
   },
   "file_extension": ".py",
   "mimetype": "text/x-python",
   "name": "python",
   "nbconvert_exporter": "python",
   "pygments_lexer": "ipython3",
   "version": "3.9.13"
  },
  "vscode": {
   "interpreter": {
    "hash": "437757d3448eae7575d20e6e19984da74cc99451b296d0d77f8bc052a39acd52"
   }
  }
 },
 "nbformat": 4,
 "nbformat_minor": 1
}
